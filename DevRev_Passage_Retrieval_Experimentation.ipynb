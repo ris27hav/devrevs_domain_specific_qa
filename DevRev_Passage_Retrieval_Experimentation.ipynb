{
  "cells": [
    {
      "cell_type": "markdown",
      "metadata": {
        "id": "view-in-github",
        "colab_type": "text"
      },
      "source": [
        "<a href=\"https://colab.research.google.com/github/ris27hav/devrevs_domain_specific_qa/blob/main/DevRev_Passage_Retrieval_Experimentation.ipynb\" target=\"_parent\"><img src=\"https://colab.research.google.com/assets/colab-badge.svg\" alt=\"Open In Colab\"/></a>"
      ]
    },
    {
      "cell_type": "markdown",
      "source": [
        "## Load Data"
      ],
      "metadata": {
        "id": "APhlBAlK2-Aa"
      }
    },
    {
      "cell_type": "markdown",
      "metadata": {
        "id": "O0zouMSUjLPM"
      },
      "source": [
        "### Load Train Dataset"
      ]
    },
    {
      "cell_type": "code",
      "execution_count": null,
      "metadata": {
        "id": "EouaXrxN3uCu"
      },
      "outputs": [],
      "source": [
        "import csv\n",
        "import requests\n",
        "\n",
        "# load training dataset\n",
        "def load_data():\n",
        "    CSV_URL = 'https://drive.google.com/u/0/uc?id=1Z-yb752A3o7b9dqrGt24XU0sl53FVqya&export=download'\n",
        "\n",
        "    with requests.Session() as s:\n",
        "        download = s.get(CSV_URL)\n",
        "        decoded_content = download.content.decode('utf-8')\n",
        "        cr = csv.reader(decoded_content.splitlines(), delimiter=',')\n",
        "        train_data = list(cr)\n",
        "\n",
        "    print(f\"Number of examples = {len(train_data)}\")\n",
        "    ans, noans = 0, 0\n",
        "    for x in train_data:\n",
        "        if x[4] == 'False':\n",
        "            noans += 1\n",
        "        else:\n",
        "            ans += 1\n",
        "    print(f\"\\tAnswerable questions = {ans}\")\n",
        "    print(f\"\\tNon-Answerable questions = {noans}\\n\")\n",
        "    print(\"Examples:\")\n",
        "    for i in [0, 1000, 1300]:\n",
        "        print(' | '.join(train_data[i][:2]), ' | ', train_data[i][2][:20] + '...', ' | ', ' | '.join(train_data[i][3:]))\n",
        "    return train_data"
      ]
    },
    {
      "cell_type": "code",
      "execution_count": null,
      "metadata": {
        "id": "TzgNTXeZjV6M"
      },
      "outputs": [],
      "source": [
        "def load_theme_wise_data(train_data):\n",
        "    theme_wise_data = {}\n",
        "    for x in train_data[1:]:\n",
        "        if x[1] not in theme_wise_data:\n",
        "            theme_wise_data[x[1]] = {\n",
        "                'para': [],\n",
        "                'ques': [],\n",
        "                'ans': []\n",
        "            }\n",
        "        if x[2] not in theme_wise_data[x[1]]['para']:\n",
        "            theme_wise_data[x[1]]['para'].append(x[2])\n",
        "        theme_wise_data[x[1]]['ques'].append(x[3])\n",
        "        # ans contains a list -> [Para_Number, Answer_possible, Answer_text, Answer_start]\n",
        "        theme_wise_data[x[1]]['ans'].append([theme_wise_data[x[1]]['para'].index(x[2])] + x[4:])\n",
        "    print(f'\\nTotal {len(theme_wise_data)} themes present.')\n",
        "    return theme_wise_data"
      ]
    },
    {
      "cell_type": "code",
      "execution_count": null,
      "metadata": {
        "id": "2K5L7ul5-VOB"
      },
      "outputs": [],
      "source": [
        "def load_ques_by_theme(theme, theme_wise_data, answerable_only = False):\n",
        "    paras = theme_wise_data[theme]['para']\n",
        "    ques = []\n",
        "    gold_para = []\n",
        "    ans = []\n",
        "    for i in range(len(theme_wise_data[theme]['ques'])):\n",
        "        if answerable_only and theme_wise_data[theme]['ans'][i][1] == 'False':\n",
        "            continue\n",
        "        ques.append(theme_wise_data[theme]['ques'][i])\n",
        "        gold_para.append(theme_wise_data[theme]['ans'][i][0])\n",
        "        ans.append(theme_wise_data[theme]['ans'][i][1:])\n",
        "\n",
        "    print(\"Total Questions:\", len(ques))\n",
        "    print(\"Total Paragraphs:\", len(paras))\n",
        "    return paras, ques, gold_para, ans"
      ]
    },
    {
      "cell_type": "markdown",
      "source": [
        "### Load Test Dataset"
      ],
      "metadata": {
        "id": "lFDwNSB-20gU"
      }
    },
    {
      "cell_type": "code",
      "source": [
        "# Load Test Dataset Round 1\n",
        "!gdown 15WPYOD3ZLShFq_NRtiBHbpz3RTvc8ZWR\n",
        "!gdown 15yxIF27NvEa3l12yNy6F5h8lGCJ2n7rf\n",
        "!gdown 1Ilpxyj_0T-1KzQMdVSEbSmc1ybxOv69G\n",
        "!gdown 1nkEDQZJY6_cAEVw3JlaKCgz0C6mDSYiv"
      ],
      "metadata": {
        "id": "PDsZ3veewUjM",
        "colab": {
          "base_uri": "https://localhost:8080/"
        },
        "outputId": "b7109166-6ba9-4a37-b028-5df110021030"
      },
      "execution_count": null,
      "outputs": [
        {
          "output_type": "stream",
          "name": "stdout",
          "text": [
            "Downloading...\n",
            "From: https://drive.google.com/uc?id=15WPYOD3ZLShFq_NRtiBHbpz3RTvc8ZWR\n",
            "To: /content/ground_truth.csv\n",
            "100% 1.35M/1.35M [00:00<00:00, 196MB/s]\n",
            "Downloading...\n",
            "From: https://drive.google.com/uc?id=15yxIF27NvEa3l12yNy6F5h8lGCJ2n7rf\n",
            "To: /content/input_question.csv\n",
            "100% 2.89M/2.89M [00:00<00:00, 235MB/s]\n",
            "Downloading...\n",
            "From: https://drive.google.com/uc?id=1Ilpxyj_0T-1KzQMdVSEbSmc1ybxOv69G\n",
            "To: /content/theme_interval.csv\n",
            "100% 3.21k/3.21k [00:00<00:00, 9.20MB/s]\n",
            "Downloading...\n",
            "From: https://drive.google.com/uc?id=1nkEDQZJY6_cAEVw3JlaKCgz0C6mDSYiv\n",
            "To: /content/input_paragraph.csv\n",
            "100% 3.45M/3.45M [00:00<00:00, 267MB/s]\n"
          ]
        }
      ]
    },
    {
      "cell_type": "code",
      "source": [
        "# # Load Test Dataset Round 2\n",
        "# !gdown 1-3fMldkBVsTAX3W5JewdAdlUG_agexG0\n",
        "# !gdown 1-59pQe8TH7UaORF1RSqzFWybMJShdf1U\n",
        "# !gdown 1-AbnJRRHQiTU5zyUdDC2gUwbIGkEF5l6\n",
        "# !gdown 1-Px6FFj043L7lbAEBOAMSy2bdoPiVNhy"
      ],
      "metadata": {
        "id": "3exMX7g93InP"
      },
      "execution_count": null,
      "outputs": []
    },
    {
      "cell_type": "markdown",
      "metadata": {
        "id": "ecsInjmdhs75"
      },
      "source": [
        "## Task 1: Paragraph Retrieval"
      ]
    },
    {
      "cell_type": "markdown",
      "metadata": {
        "id": "YUWiAAYL05A3"
      },
      "source": [
        "### Common Pipeline"
      ]
    },
    {
      "cell_type": "code",
      "execution_count": null,
      "metadata": {
        "colab": {
          "base_uri": "https://localhost:8080/"
        },
        "id": "t2U_MrGDB5p-",
        "outputId": "f9f2dea5-8e56-4685-bf64-abb2d224cf68"
      },
      "outputs": [
        {
          "output_type": "stream",
          "name": "stdout",
          "text": [
            "Looking in indexes: https://pypi.org/simple, https://us-python.pkg.dev/colab-wheels/public/simple/\n",
            "Collecting transformers\n",
            "  Downloading transformers-4.25.1-py3-none-any.whl (5.8 MB)\n",
            "\u001b[2K     \u001b[90m━━━━━━━━━━━━━━━━━━━━━━━━━━━━━━━━━━━━━━━━\u001b[0m \u001b[32m5.8/5.8 MB\u001b[0m \u001b[31m38.7 MB/s\u001b[0m eta \u001b[36m0:00:00\u001b[0m\n",
            "\u001b[?25hCollecting faiss-cpu\n",
            "  Downloading faiss_cpu-1.7.3-cp38-cp38-manylinux_2_17_x86_64.manylinux2014_x86_64.whl (17.0 MB)\n",
            "\u001b[2K     \u001b[90m━━━━━━━━━━━━━━━━━━━━━━━━━━━━━━━━━━━━━━━━\u001b[0m \u001b[32m17.0/17.0 MB\u001b[0m \u001b[31m57.1 MB/s\u001b[0m eta \u001b[36m0:00:00\u001b[0m\n",
            "\u001b[?25hRequirement already satisfied: tqdm>=4.27 in /usr/local/lib/python3.8/dist-packages (from transformers) (4.64.1)\n",
            "Collecting tokenizers!=0.11.3,<0.14,>=0.11.1\n",
            "  Downloading tokenizers-0.13.2-cp38-cp38-manylinux_2_17_x86_64.manylinux2014_x86_64.whl (7.6 MB)\n",
            "\u001b[2K     \u001b[90m━━━━━━━━━━━━━━━━━━━━━━━━━━━━━━━━━━━━━━━━\u001b[0m \u001b[32m7.6/7.6 MB\u001b[0m \u001b[31m90.0 MB/s\u001b[0m eta \u001b[36m0:00:00\u001b[0m\n",
            "\u001b[?25hRequirement already satisfied: regex!=2019.12.17 in /usr/local/lib/python3.8/dist-packages (from transformers) (2022.6.2)\n",
            "Requirement already satisfied: numpy>=1.17 in /usr/local/lib/python3.8/dist-packages (from transformers) (1.21.6)\n",
            "Requirement already satisfied: packaging>=20.0 in /usr/local/lib/python3.8/dist-packages (from transformers) (21.3)\n",
            "Requirement already satisfied: requests in /usr/local/lib/python3.8/dist-packages (from transformers) (2.25.1)\n",
            "Collecting huggingface-hub<1.0,>=0.10.0\n",
            "  Downloading huggingface_hub-0.11.1-py3-none-any.whl (182 kB)\n",
            "\u001b[2K     \u001b[90m━━━━━━━━━━━━━━━━━━━━━━━━━━━━━━━━━━━━━━\u001b[0m \u001b[32m182.4/182.4 KB\u001b[0m \u001b[31m16.0 MB/s\u001b[0m eta \u001b[36m0:00:00\u001b[0m\n",
            "\u001b[?25hRequirement already satisfied: filelock in /usr/local/lib/python3.8/dist-packages (from transformers) (3.8.2)\n",
            "Requirement already satisfied: pyyaml>=5.1 in /usr/local/lib/python3.8/dist-packages (from transformers) (6.0)\n",
            "Requirement already satisfied: typing-extensions>=3.7.4.3 in /usr/local/lib/python3.8/dist-packages (from huggingface-hub<1.0,>=0.10.0->transformers) (4.4.0)\n",
            "Requirement already satisfied: pyparsing!=3.0.5,>=2.0.2 in /usr/local/lib/python3.8/dist-packages (from packaging>=20.0->transformers) (3.0.9)\n",
            "Requirement already satisfied: certifi>=2017.4.17 in /usr/local/lib/python3.8/dist-packages (from requests->transformers) (2022.12.7)\n",
            "Requirement already satisfied: urllib3<1.27,>=1.21.1 in /usr/local/lib/python3.8/dist-packages (from requests->transformers) (1.24.3)\n",
            "Requirement already satisfied: idna<3,>=2.5 in /usr/local/lib/python3.8/dist-packages (from requests->transformers) (2.10)\n",
            "Requirement already satisfied: chardet<5,>=3.0.2 in /usr/local/lib/python3.8/dist-packages (from requests->transformers) (4.0.0)\n",
            "Installing collected packages: tokenizers, faiss-cpu, huggingface-hub, transformers\n",
            "Successfully installed faiss-cpu-1.7.3 huggingface-hub-0.11.1 tokenizers-0.13.2 transformers-4.25.1\n"
          ]
        }
      ],
      "source": [
        "!pip install transformers faiss-cpu"
      ]
    },
    {
      "cell_type": "code",
      "execution_count": null,
      "metadata": {
        "colab": {
          "base_uri": "https://localhost:8080/"
        },
        "id": "p1yKv4VAB8F3",
        "outputId": "bfcc4856-0fdb-40fb-cd69-5a3568019fdf"
      },
      "outputs": [
        {
          "output_type": "stream",
          "name": "stderr",
          "text": [
            "[nltk_data] Downloading package punkt to /root/nltk_data...\n",
            "[nltk_data]   Unzipping tokenizers/punkt.zip.\n"
          ]
        },
        {
          "output_type": "execute_result",
          "data": {
            "text/plain": [
              "True"
            ]
          },
          "metadata": {},
          "execution_count": 7
        }
      ],
      "source": [
        "from nltk import sent_tokenize\n",
        "from transformers import AutoModel, AutoTokenizer\n",
        "\n",
        "import faiss\n",
        "import matplotlib.pyplot as plt\n",
        "import nltk\n",
        "import tensorflow as tf\n",
        "import tensorflow_hub as hub\n",
        "import torch\n",
        "\n",
        "nltk.download('punkt')"
      ]
    },
    {
      "cell_type": "code",
      "execution_count": null,
      "metadata": {
        "id": "Si0txAbrRS43"
      },
      "outputs": [],
      "source": [
        "def para_to_sentences(para):\n",
        "    \"\"\"Splits a para into sentences.\"\"\"\n",
        "    para = para.replace('\\n', ' ').replace('\\t', ' ').replace('\\x00', ' ')\n",
        "    return sent_tokenize(para)\n",
        "\n",
        "def load_sents_from_para(paras):\n",
        "    sents = []\n",
        "    para_id = []\n",
        "    for id, x in enumerate(paras):\n",
        "        new_sents = para_to_sentences(x)\n",
        "        sents += new_sents\n",
        "        para_id += [id]*len(new_sents)\n",
        "    return sents, para_id"
      ]
    },
    {
      "cell_type": "code",
      "execution_count": null,
      "metadata": {
        "id": "MjRvDNJLAKTw"
      },
      "outputs": [],
      "source": [
        "def load_encoder(encoder):\n",
        "    if encoder == 'Universal Sentence Encoder':\n",
        "        module_url = \"https://tfhub.dev/google/universal-sentence-encoder-large/5\"\n",
        "        model = hub.load(module_url)\n",
        "        return _, model\n",
        "    elif encoder == \"Universal Sentence Encoder for QA\":\n",
        "        module_url = \"https://tfhub.dev/google/universal-sentence-encoder-qa/3\"\n",
        "        model = hub.load(module_url)\n",
        "        return _, model\n",
        "    elif encoder == 'SimCSE':\n",
        "        tokenizer = AutoTokenizer.from_pretrained(\"princeton-nlp/sup-simcse-bert-base-uncased\")\n",
        "        model = AutoModel.from_pretrained(\"princeton-nlp/sup-simcse-bert-base-uncased\")\n",
        "        return tokenizer, model\n",
        "    else:\n",
        "        print(\"Encoder not found. Please choose one from - 1. Universal Sentence Encoder, 2. Universal Sentence Encoder for QA, 3. SimCSE\")\n",
        "\n",
        "\n",
        "def get_embeddings(sents, encoder, tokenizer, model, sents_type=\"default\"):\n",
        "    if encoder == 'Universal Sentence Encoder':\n",
        "        return model(sents)\n",
        "    elif encoder == 'Universal Sentence Encoder for QA':\n",
        "        if sents_type == \"Question\":\n",
        "            return model.signatures['question_encoder'](tf.constant(sents))['outputs']\n",
        "        return model.signatures['response_encoder'](\n",
        "            input = tf.constant(sents),\n",
        "            context = tf.constant(sents)\n",
        "        )['outputs']\n",
        "    elif encoder == 'SimCSE':\n",
        "        tokens = tokenizer(sents, padding=True, truncation=True, return_tensors=\"pt\")\n",
        "        with torch.no_grad():\n",
        "            embeds = model(**tokens, output_hidden_states=True, return_dict=True).pooler_output\n",
        "        return embeds\n",
        "    print(\"Encoder not found. Please choose one from - 1. Universal Sentence Encoder, 2. Universal Sentence Encoder for QA, 3. SimCSE\")"
      ]
    },
    {
      "cell_type": "code",
      "execution_count": null,
      "metadata": {
        "id": "U5ab95PbR3jz"
      },
      "outputs": [],
      "source": [
        "def get_k_nearest_neighbours(sents_embed, ques_embed, k = 10):\n",
        "    index = faiss.IndexFlatL2(sents_embed.shape[1])\n",
        "    index.add(sents_embed)\n",
        "    return index.search(ques_embed, k)\n",
        "\n",
        "def sent_id_to_para_id(I, para_id):\n",
        "    return [[para_id[sent_idx] for sent_idx in I[i]] for i in range(len(I))]"
      ]
    },
    {
      "cell_type": "code",
      "execution_count": null,
      "metadata": {
        "id": "6MMSN-PWUZsn"
      },
      "outputs": [],
      "source": [
        "def print_example(i, sents, ques, pred_para, I, D):\n",
        "    cur_ques = ques[i]\n",
        "    print('question:', cur_ques)\n",
        "    print('similar sentences:')\n",
        "    print('\\tTarget sentence | Predicted Para ID | Distance between target sentence and query')\n",
        "    for j in range(D.shape[1]):\n",
        "        target_sent = sents[I[i,j]]\n",
        "        print('\\t', target_sent, '|', pred_para[i][j], '|', D[i, j])"
      ]
    },
    {
      "cell_type": "code",
      "execution_count": null,
      "metadata": {
        "id": "oe_YN3o_CuxL"
      },
      "outputs": [],
      "source": [
        "def getRank(pred, gold):\n",
        "    i = 1\n",
        "    for p in pred:\n",
        "        if p == gold:\n",
        "            return i\n",
        "        i += 1\n",
        "    return i\n",
        "\n",
        "# Mean Rank of most relevant passage\n",
        "def getMeanRank(preds, gold):\n",
        "    k = len(preds[0])\n",
        "    rankSum = 0\n",
        "    notInTopK = 0\n",
        "    for i, g in zip(preds, gold):\n",
        "        rank = getRank(i, g)\n",
        "        if rank > k:\n",
        "            notInTopK += 1\n",
        "        else:\n",
        "            rankSum += rank\n",
        "    avg = k+1\n",
        "    if len(gold) > notInTopK:\n",
        "        avg = rankSum / (len(gold) - notInTopK)\n",
        "    return notInTopK, avg\n",
        "\n",
        "\n",
        "# Histogram of ranks of the most relevant passage\n",
        "def showHistogram(preds, gold):\n",
        "    k = len(preds[0])\n",
        "    ranks = []\n",
        "    for i, g in zip(preds, gold):\n",
        "        rank = getRank(i, g)\n",
        "        if rank <= k:\n",
        "            ranks.append(rank)\n",
        "    plt.hist(ranks)\n",
        "    plt.xlabel(\"Rank of the most relevant passage\")\n",
        "    plt.ylabel(\"Count\")\n",
        "    plt.show()"
      ]
    },
    {
      "cell_type": "code",
      "execution_count": null,
      "metadata": {
        "id": "aoRcov1ZTrAh"
      },
      "outputs": [],
      "source": [
        "def evaluate_results(pred_para, gold_para):\n",
        "    notInTopK, meanRank = getMeanRank(pred_para, gold_para)\n",
        "    print(\"Total queries:\", len(pred_para))\n",
        "    print(f\"In top {len(pred_para[0])} results, number of queries for which -\")\n",
        "    print(f\"\\tRelevant paragraph found: {len(pred_para) - notInTopK} ({100 - round(100.*notInTopK / len(pred_para))} %)\")\n",
        "    print(f\"\\tRelevant paragraph NOT found: {notInTopK} ({round(100.*notInTopK / len(pred_para))} %)\")\n",
        "    print(f\"Mean Rank for which relevant paragraph found: {round(meanRank, 2)}\\n\")\n",
        "\n",
        "    showHistogram(pred_para, gold_para)"
      ]
    },
    {
      "cell_type": "markdown",
      "metadata": {
        "id": "PhXWSARZiuMd"
      },
      "source": [
        "### Approach 1: Breaking passage into sentences -> sentence embeddings"
      ]
    },
    {
      "cell_type": "markdown",
      "metadata": {
        "id": "dwyy9cNQGAvO"
      },
      "source": [
        "#### 1. Using Google's Universal Sentence Encoder Large"
      ]
    },
    {
      "cell_type": "code",
      "execution_count": null,
      "metadata": {
        "colab": {
          "base_uri": "https://localhost:8080/"
        },
        "id": "zfpNkAjB3OsK",
        "outputId": "4ebc2c4c-4eb3-424b-a6e7-daa05caf4049"
      },
      "outputs": [
        {
          "output_type": "stream",
          "name": "stdout",
          "text": [
            "Number of examples = 75056\n",
            "\tAnswerable questions = 50126\n",
            "\tNon-Answerable questions = 24930\n",
            "\n",
            "Examples:\n",
            " | Theme  |  Paragraph...  |  Question | Answer_possible | Answer_text | Answer_start\n",
            "1430 | Frédéric_Chopin  |  Some modern commenta...  |  Who said Chopin's works were modeled after Bach, Beethoven, Schubert and Field? | True | ['Richard Taruskin'] | [543]\n",
            "2196 | The_Legend_of_Zelda:_Twilight_Princess  |  Twilight Princess ta...  |  Who releases Bulbins from the Realm of Twilight? | False | [] | []\n",
            "\n",
            "Total 361 themes present.\n"
          ]
        }
      ],
      "source": [
        "train_data = load_data()\n",
        "theme_wise_data = load_theme_wise_data(train_data)"
      ]
    },
    {
      "cell_type": "code",
      "execution_count": null,
      "metadata": {
        "colab": {
          "base_uri": "https://localhost:8080/"
        },
        "id": "CGRKuocjR5vh",
        "outputId": "4f86a491-1db7-4dd6-fc99-9cffb2b6147d"
      },
      "outputs": [
        {
          "output_type": "stream",
          "name": "stdout",
          "text": [
            "Total Questions: 523\n",
            "Total Paragraphs: 66\n"
          ]
        }
      ],
      "source": [
        "# Retrieving sentences for one theme\n",
        "\n",
        "paras, ques, gold_para, _ = load_ques_by_theme('Beyoncé', theme_wise_data, answerable_only=True)\n",
        "sents, para_id = load_sents_from_para(paras)"
      ]
    },
    {
      "cell_type": "code",
      "execution_count": null,
      "metadata": {
        "id": "MQERaXtQ7iNe"
      },
      "outputs": [],
      "source": [
        "encoder = 'Universal Sentence Encoder'\n",
        "_, model = load_encoder(encoder)"
      ]
    },
    {
      "cell_type": "code",
      "execution_count": null,
      "metadata": {
        "id": "nZAh0yFl8KtJ"
      },
      "outputs": [],
      "source": [
        "k = 10\n",
        "sents_embed = get_embeddings(sents, encoder, _, model)\n",
        "ques_embed = get_embeddings(ques, encoder, _, model)\n",
        "D, I = get_k_nearest_neighbours(sents_embed, ques_embed, k)\n",
        "pred_para = sent_id_to_para_id(I, para_id)"
      ]
    },
    {
      "cell_type": "code",
      "execution_count": null,
      "metadata": {
        "colab": {
          "base_uri": "https://localhost:8080/"
        },
        "id": "pqPm2rbYPCCw",
        "outputId": "8aec9f35-2f65-4083-dbb6-0082fc519d95"
      },
      "outputs": [
        {
          "output_type": "stream",
          "name": "stdout",
          "text": [
            "question: When did Beyonce leave Destiny's Child and become a solo singer?\n",
            "similar sentences:\n",
            "\tTarget sentence | Predicted Para ID | Distance between target sentence and query\n",
            "\t Following the disbandment of Destiny's Child in June 2005, she released her second solo album, B'Day (2006), which contained hits \"Déjà Vu\", \"Irreplaceable\", and \"Beautiful Liar\". | 1 | 0.6500025\n",
            "\t As a solo artist she has sold over 15 million albums in the US, and over 118 million records worldwide (a further 60 million additionally with Destiny's Child), making her one of the best-selling music artists of all time. | 53 | 0.79914117\n",
            "\t Throughout a career spanning 19 years, she has sold over 118 million records as a solo artist, and a further 60 million with Destiny's Child, making her one of the best-selling music artists of all time. | 2 | 0.80471325\n",
            "\t In early 2001, while Destiny's Child was completing their third album, Beyoncé landed a major role in the MTV made-for-television film, Carmen: A Hip Hopera, starring alongside American actor Mekhi Phifer. | 8 | 0.81184435\n",
            "\t Beyoncé has won 20 Grammy Awards, both as a solo artist and member of Destiny's Child, making her the second most honored female artist by the Grammys, behind Alison Krauss and the most nominated woman in Grammy Award history with 52 nominations. | 54 | 0.8277668\n",
            "\t Beyoncé took a hiatus from music in 2010 and took over management of her career; her fourth album 4 (2011) was subsequently mellower in tone, exploring 1970s funk, 1980s pop, and 1990s soul. | 1 | 0.830747\n",
            "\t Destiny's Child embarked on a worldwide concert tour, Destiny Fulfilled... and Lovin' It and during the last stop of their European tour, in Barcelona on June 11, 2005, Rowland announced that Destiny's Child would disband following the North American leg of the tour. | 11 | 0.8384073\n",
            "\t Beyoncé's younger sister Solange is also a singer and a former member of Destiny's Child. | 3 | 0.83890915\n",
            "\t She has received co-writing credits for most of the songs recorded with Destiny's Child and her solo efforts. | 36 | 0.88310695\n",
            "\t Beyoncé announced a hiatus from her music career in January 2010, heeding her mother's advice, \"to live life, to be inspired by things again\". | 17 | 0.9236499\n"
          ]
        }
      ],
      "source": [
        "print_example(0, sents, ques, pred_para, I, D)"
      ]
    },
    {
      "cell_type": "code",
      "execution_count": null,
      "metadata": {
        "colab": {
          "base_uri": "https://localhost:8080/",
          "height": 388
        },
        "id": "lKaYiyFvPB_Q",
        "outputId": "e3cb7fde-3f20-4261-ae0a-0acbe545525f"
      },
      "outputs": [
        {
          "output_type": "stream",
          "name": "stdout",
          "text": [
            "Total queries: 523\n",
            "In top 10 results, number of queries for which -\n",
            "\tRelevant paragraph found: 449 (86 %)\n",
            "\tRelevant paragraph NOT found: 74 (14 %)\n",
            "Mean Rank for which relevant paragraph found: 2.11\n",
            "\n"
          ]
        },
        {
          "output_type": "display_data",
          "data": {
            "text/plain": [
              "<Figure size 432x288 with 1 Axes>"
            ],
            "image/png": "[encoded data removed]"
          },
          "metadata": {
            "needs_background": "light"
          }
        }
      ],
      "source": [
        "evaluate_results(pred_para, gold_para)"
      ]
    },
    {
      "cell_type": "code",
      "source": [],
      "metadata": {
        "id": "RGaEHrxyOFuC"
      },
      "execution_count": null,
      "outputs": []
    },
    {
      "cell_type": "code",
      "execution_count": null,
      "metadata": {
        "id": "uEC4jGZ3tWO9"
      },
      "outputs": [],
      "source": [
        "# Retrieving sentences for all themes\n",
        "\n",
        "k = 10\n",
        "numThemes = len(theme_wise_data.keys())\n",
        "total = 0\n",
        "notInTopKSum = 0\n",
        "rankSum = 0.\n",
        "i = 0\n",
        "\n",
        "for theme in theme_wise_data:\n",
        "    paras, ques, gold_para, _ = load_ques_by_theme(theme, theme_wise_data, answerable_only=True)\n",
        "    sents, para_id = load_sents_from_para(paras)\n",
        "\n",
        "    sents_embed = model(sents)\n",
        "    ques_embed = model(ques)\n",
        "\n",
        "    D, I = get_k_nearest_neighbours(sents_embed, ques_embed, k)\n",
        "    pred_para = sent_id_to_para_id(I, para_id)\n",
        "\n",
        "    notInTopK, avg = getMeanRank(pred_para, gold_para)\n",
        "    total += len(ques)\n",
        "    notInTopKSum += notInTopK\n",
        "    rankSum += avg * (len(ques) - notInTopK)\n",
        "\n",
        "    i += 1\n",
        "    print(f'\\r{i}/{numThemes} themes evaluated', end='')"
      ]
    },
    {
      "cell_type": "code",
      "execution_count": null,
      "metadata": {
        "colab": {
          "base_uri": "https://localhost:8080/"
        },
        "id": "PvJnhvmTtVT5",
        "outputId": "5b17af5d-3112-4f23-852a-2e5ca6157f2b"
      },
      "outputs": [
        {
          "name": "stdout",
          "output_type": "stream",
          "text": [
            "Total queries: 50125\n",
            "In top 10 results, number of queries for which -\n",
            "\tRelevant paragraph found: 46954 (93.67 %)\n",
            "\tRelevant paragraph NOT found: 3171 (6.33 %)\n",
            "Mean Rank for which relevant paragraph found: 1.6\n"
          ]
        }
      ],
      "source": [
        "inTopKSum = total - notInTopKSum\n",
        "print(f\"Total queries: {total}\")\n",
        "print(f\"In top {k} results, number of queries for which -\")\n",
        "print(f\"\\tRelevant paragraph found: {inTopKSum} ({round(100.*inTopKSum / total, 2)} %)\")\n",
        "print(f\"\\tRelevant paragraph NOT found: {notInTopKSum} ({round(100.*notInTopKSum / total, 2)} %)\")\n",
        "print(f\"Mean Rank for which relevant paragraph found: {round(rankSum / total, 2)}\")"
      ]
    },
    {
      "cell_type": "code",
      "execution_count": null,
      "metadata": {
        "id": "srY4lMqJusBS"
      },
      "outputs": [],
      "source": [
        "# 38 mins 05 secs for 50126 queries consisting of 361 themes"
      ]
    },
    {
      "cell_type": "markdown",
      "metadata": {
        "id": "4-MjbAQYlvsG"
      },
      "source": [
        "#### 2. Using Google's Universal Sentence Encoder for QA"
      ]
    },
    {
      "cell_type": "code",
      "execution_count": null,
      "metadata": {
        "colab": {
          "base_uri": "https://localhost:8080/"
        },
        "id": "UyHvJ-dElvsG",
        "outputId": "628dfc76-667c-42aa-ba88-f7de92def482"
      },
      "outputs": [
        {
          "name": "stdout",
          "output_type": "stream",
          "text": [
            "Number of examples = 75056\n",
            "\tAnswerable questions = 50126\n",
            "\tNon-Answerable questions = 24930\n",
            "\n",
            "Examples:\n",
            " | Theme  |  Paragraph...  |  Question | Answer_possible | Answer_text | Answer_start\n",
            "1430 | Frédéric_Chopin  |  Some modern commenta...  |  Who said Chopin's works were modeled after Bach, Beethoven, Schubert and Field? | True | ['Richard Taruskin'] | [543]\n",
            "2196 | The_Legend_of_Zelda:_Twilight_Princess  |  Twilight Princess ta...  |  Who releases Bulbins from the Realm of Twilight? | False | [] | []\n",
            "\n",
            "Total 361 themes present.\n"
          ]
        }
      ],
      "source": [
        "train_data = load_data()\n",
        "theme_wise_data = load_theme_wise_data(train_data)"
      ]
    },
    {
      "cell_type": "code",
      "execution_count": null,
      "metadata": {
        "colab": {
          "base_uri": "https://localhost:8080/"
        },
        "id": "hTIX7kOglvsH",
        "outputId": "b249643a-4868-46eb-bdd0-37bfa328fbf7"
      },
      "outputs": [
        {
          "name": "stdout",
          "output_type": "stream",
          "text": [
            "Total Questions: 523\n",
            "Total Paragraphs: 66\n"
          ]
        }
      ],
      "source": [
        "# Retrieving sentences for one theme\n",
        "\n",
        "paras, ques, gold_para, _ = load_ques_by_theme('Beyoncé', theme_wise_data, answerable_only=True)\n",
        "sents, para_id = load_sents_from_para(paras)"
      ]
    },
    {
      "cell_type": "code",
      "execution_count": null,
      "metadata": {
        "id": "8Kl_ivgllvsH"
      },
      "outputs": [],
      "source": [
        "encoder = 'Universal Sentence Encoder for QA'\n",
        "_, model = load_encoder(encoder)"
      ]
    },
    {
      "cell_type": "code",
      "execution_count": null,
      "metadata": {
        "id": "UI7IiQDElvsH"
      },
      "outputs": [],
      "source": [
        "k = 10\n",
        "sents_embed = get_embeddings(sents, encoder, _, model, sents_type=\"Context\")\n",
        "ques_embed = get_embeddings(ques, encoder, _, model, sents_type=\"Question\")\n",
        "D, I = get_k_nearest_neighbours(sents_embed, ques_embed, k)\n",
        "pred_para = sent_id_to_para_id(I, para_id)"
      ]
    },
    {
      "cell_type": "code",
      "execution_count": null,
      "metadata": {
        "colab": {
          "base_uri": "https://localhost:8080/"
        },
        "id": "CnBMxjL9lvsH",
        "outputId": "382e0164-9509-47e7-9e51-3b1741134689"
      },
      "outputs": [
        {
          "name": "stdout",
          "output_type": "stream",
          "text": [
            "question: When did Beyonce leave Destiny's Child and become a solo singer?\n",
            "similar sentences:\n",
            "\tTarget sentence | Predicted Para ID | Distance between target sentence and query\n",
            "\t Following the disbandment of Destiny's Child in June 2005, she released her second solo album, B'Day (2006), which contained hits \"Déjà Vu\", \"Irreplaceable\", and \"Beautiful Liar\". | 1 | 0.753831\n",
            "\t She has received co-writing credits for most of the songs recorded with Destiny's Child and her solo efforts. | 36 | 0.86313295\n",
            "\t Throughout a career spanning 19 years, she has sold over 118 million records as a solo artist, and a further 60 million with Destiny's Child, making her one of the best-selling music artists of all time. | 2 | 0.86395407\n",
            "\t However, this was put on hold so she could concentrate on recording Destiny Fulfilled, the final studio album by Destiny's Child. | 11 | 0.87941134\n",
            "\t Destiny's Child embarked on a worldwide concert tour, Destiny Fulfilled... and Lovin' It and during the last stop of their European tour, in Barcelona on June 11, 2005, Rowland announced that Destiny's Child would disband following the North American leg of the tour. | 11 | 0.8841224\n",
            "\t In early 2001, while Destiny's Child was completing their third album, Beyoncé landed a major role in the MTV made-for-television film, Carmen: A Hip Hopera, starring alongside American actor Mekhi Phifer. | 8 | 0.89829373\n",
            "\t Her first solo album Dangerously in Love was released on June 24, 2003, after Michelle Williams and Kelly Rowland had released their solo efforts. | 10 | 0.91466975\n",
            "\t Beyoncé took a hiatus from music in 2010 and took over management of her career; her fourth album 4 (2011) was subsequently mellower in tone, exploring 1970s funk, 1980s pop, and 1990s soul. | 1 | 0.915099\n",
            "\t As a solo artist she has sold over 15 million albums in the US, and over 118 million records worldwide (a further 60 million additionally with Destiny's Child), making her one of the best-selling music artists of all time. | 53 | 0.9161856\n",
            "\t Her vocal abilities mean she is identified as the centerpiece of Destiny's Child. | 34 | 0.9503057\n"
          ]
        }
      ],
      "source": [
        "print_example(0, sents, ques, pred_para, I, D)"
      ]
    },
    {
      "cell_type": "code",
      "execution_count": null,
      "metadata": {
        "colab": {
          "base_uri": "https://localhost:8080/",
          "height": 388
        },
        "id": "_sj0V4L3lvsI",
        "outputId": "2b9129f3-b3a2-4e8b-d1bd-253b15eb920e"
      },
      "outputs": [
        {
          "name": "stdout",
          "output_type": "stream",
          "text": [
            "Total queries: 523\n",
            "In top 10 results, number of queries for which -\n",
            "\tRelevant paragraph found: 449 (86 %)\n",
            "\tRelevant paragraph NOT found: 74 (14 %)\n",
            "Mean Rank for which relevant paragraph found: 2.11\n",
            "\n"
          ]
        },
        {
          "data": {
            "image/png": "[encoded data removed]",
            "text/plain": [
              "<Figure size 432x288 with 1 Axes>"
            ]
          },
          "metadata": {},
          "output_type": "display_data"
        }
      ],
      "source": [
        "evaluate_results(pred_para, gold_para) # without Universal Sentence Encoder for QA"
      ]
    },
    {
      "cell_type": "code",
      "execution_count": null,
      "metadata": {
        "colab": {
          "base_uri": "https://localhost:8080/",
          "height": 388
        },
        "id": "k0WCxL_OlvsI",
        "outputId": "44621db8-30d1-4c65-96c7-83e40480dfde"
      },
      "outputs": [
        {
          "name": "stdout",
          "output_type": "stream",
          "text": [
            "Total queries: 523\n",
            "In top 10 results, number of queries for which -\n",
            "\tRelevant paragraph found: 469 (90 %)\n",
            "\tRelevant paragraph NOT found: 54 (10 %)\n",
            "Mean Rank for which relevant paragraph found: 1.97\n",
            "\n"
          ]
        },
        {
          "data": {
            "image/png": "[encoded data removed]",
            "text/plain": [
              "<Figure size 432x288 with 1 Axes>"
            ]
          },
          "metadata": {},
          "output_type": "display_data"
        }
      ],
      "source": [
        "evaluate_results(pred_para, gold_para) # with Universal Sentence Encoder for QA"
      ]
    },
    {
      "cell_type": "code",
      "execution_count": null,
      "metadata": {
        "id": "ReX_F_TYnqIs"
      },
      "outputs": [],
      "source": []
    },
    {
      "cell_type": "code",
      "execution_count": null,
      "metadata": {
        "id": "hCR0e6aClvsI"
      },
      "outputs": [],
      "source": [
        "# Retrieving sentences for all themes\n",
        "\n",
        "k = 10\n",
        "encoder = 'Universal Sentence Encoder for QA'\n",
        "_, model = load_encoder(encoder)\n",
        "numThemes = len(theme_wise_data.keys())\n",
        "total = 0\n",
        "notInTopKSum = 0\n",
        "rankSum = 0.\n",
        "i = 0\n",
        "\n",
        "\n",
        "for theme in theme_wise_data:\n",
        "    paras, ques, gold_para, _ = load_ques_by_theme(theme, theme_wise_data, answerable_only=True)\n",
        "    sents, para_id = load_sents_from_para(paras)\n",
        "\n",
        "    sents_embed = get_embeddings(sents, encoder, _, model, sents_type=\"Context\")\n",
        "    ques_embed = get_embeddings(ques, encoder, _, model, sents_type=\"Question\")\n",
        "\n",
        "    D, I = get_k_nearest_neighbours(sents_embed, ques_embed, k)\n",
        "    pred_para = sent_id_to_para_id(I, para_id)\n",
        "\n",
        "    notInTopK, avg = getMeanRank(pred_para, gold_para)\n",
        "    total += len(ques)\n",
        "    notInTopKSum += notInTopK\n",
        "    rankSum += avg * (len(ques) - notInTopK)\n",
        "\n",
        "    i += 1\n",
        "    print(f'\\r{i}/{numThemes} themes evaluated', end='')"
      ]
    },
    {
      "cell_type": "code",
      "execution_count": null,
      "metadata": {
        "colab": {
          "base_uri": "https://localhost:8080/"
        },
        "id": "cRMSo6yDlvsI",
        "outputId": "6f0ccb45-87a5-4c98-dc83-8c84333a4dbe"
      },
      "outputs": [
        {
          "name": "stdout",
          "output_type": "stream",
          "text": [
            "Total queries: 50125\n",
            "In top 10 results, number of queries for which -\n",
            "\tRelevant paragraph found: 47511 (94.79 %)\n",
            "\tRelevant paragraph NOT found: 2614 (5.21 %)\n",
            "Mean Rank for which relevant paragraph found: 1.55\n"
          ]
        }
      ],
      "source": [
        "inTopKSum = total - notInTopKSum\n",
        "print(f\"Total queries: {total}\")\n",
        "print(f\"In top {k} results, number of queries for which -\")\n",
        "print(f\"\\tRelevant paragraph found: {inTopKSum} ({round(100.*inTopKSum / total, 2)} %)\")\n",
        "print(f\"\\tRelevant paragraph NOT found: {notInTopKSum} ({round(100.*notInTopKSum / total, 2)} %)\")\n",
        "print(f\"Mean Rank for which relevant paragraph found: {round(rankSum / total, 2)}\")"
      ]
    },
    {
      "cell_type": "code",
      "execution_count": null,
      "metadata": {
        "id": "E53UQY3BlvsJ"
      },
      "outputs": [],
      "source": [
        "# 36 mins 12 secs for 50126 queries consisting of 361 themes (including time for embedding paragraphs)"
      ]
    },
    {
      "cell_type": "markdown",
      "metadata": {
        "id": "JNT7uxNNjCEs"
      },
      "source": [
        "#### 3. Using SimCSE"
      ]
    },
    {
      "cell_type": "code",
      "execution_count": null,
      "metadata": {
        "colab": {
          "base_uri": "https://localhost:8080/"
        },
        "id": "71WGlF-sOf2Z",
        "outputId": "d279a59d-c0c7-4abd-9365-71017e09a387"
      },
      "outputs": [
        {
          "output_type": "stream",
          "name": "stdout",
          "text": [
            "Number of examples = 75056\n",
            "\tAnswerable questions = 50126\n",
            "\tNon-Answerable questions = 24930\n",
            "\n",
            "Examples:\n",
            " | Theme  |  Paragraph...  |  Question | Answer_possible | Answer_text | Answer_start\n",
            "1430 | Frédéric_Chopin  |  Some modern commenta...  |  Who said Chopin's works were modeled after Bach, Beethoven, Schubert and Field? | True | ['Richard Taruskin'] | [543]\n",
            "2196 | The_Legend_of_Zelda:_Twilight_Princess  |  Twilight Princess ta...  |  Who releases Bulbins from the Realm of Twilight? | False | [] | []\n",
            "\n",
            "Total 361 themes present.\n"
          ]
        }
      ],
      "source": [
        "train_data = load_data()\n",
        "theme_wise_data = load_theme_wise_data(train_data)"
      ]
    },
    {
      "cell_type": "code",
      "execution_count": null,
      "metadata": {
        "id": "5QJgsWOZXe0X",
        "colab": {
          "base_uri": "https://localhost:8080/"
        },
        "outputId": "437182d1-e74f-4168-a62e-cb9b33d4c653"
      },
      "outputs": [
        {
          "output_type": "stream",
          "name": "stdout",
          "text": [
            "Total Questions: 523\n",
            "Total Paragraphs: 66\n"
          ]
        }
      ],
      "source": [
        "# Retrieving sentences for one theme\n",
        "\n",
        "paras, ques, gold_para, _ = load_ques_by_theme('Beyoncé', theme_wise_data, answerable_only=True)\n",
        "sents, para_id = load_sents_from_para(paras)"
      ]
    },
    {
      "cell_type": "code",
      "execution_count": null,
      "metadata": {
        "id": "qDieg4qBDSlb",
        "colab": {
          "base_uri": "https://localhost:8080/",
          "height": 177,
          "referenced_widgets": [
            "ab96f760a0294349ae4e676236add098",
            "2123b369acb64c488bb0e654002d765b",
            "38a2bdacae2c41f08653549bb7534dac",
            "9d78fcd3fa3545ac83f46666e24a2d00",
            "76e5d3bdec7543d4831c9f2a488b3c4e",
            "6bc01f7b4c6a4c74a5cc120be9e927f7",
            "ace290c2b5434e6ea3d722dcb5ea0eb9",
            "2367efdb0c1141b1804370f546ab19c3",
            "874dc42c16aa4d97adab8b4721e425d0",
            "58c32ce9da1c4d859bdad4b68a59cbd9",
            "a6294c5e95f649a8ae644f3075650514",
            "5a9cb2cb2a994ab48108c2418e7f2df1",
            "9313f13524454cd5b2d15e9c455906e9",
            "5246a3932cd3416ea9fd065f006bf597",
            "a0b1cd8f7d3848d69264b8340b145694",
            "a846374889c648bca112b4d6979fdc08",
            "c08428739cbe4b3abb84985a67ab6ae5",
            "ad0757bcc80342de841a0cc10277ad3d",
            "dc26f9eb3bd34eaaa3f1dd0cee27e7fa",
            "2e9dc10d7c8c409d90e7aabf2f05e716",
            "34380af1848b484b848a41d033e5ae81",
            "b93af92c159342ffb85c76633071c886",
            "e29c79fccd504d5fae6f9c86015cb78d",
            "f01aadfca7f9457d86bb85c11b9a79ee",
            "83fdf8d0f5a64b2a95025a9ee395d43c",
            "43c3d26385434205b256af97778d7442",
            "e6aa44eafd49458595bd45692d5fc6b8",
            "21972bb322374b90aad4b9272d581bf5",
            "2442ab66e8984eb0afb64d1e4abb52bc",
            "fa6f82a219374dbfbad437c29d9cb37e",
            "d94b630a1601472a9687027920beba69",
            "815cfe83a64740329a68d18746671700",
            "f76e91b8fb514ea6a7579a30a85887a9",
            "abf4f42b235247e58d2c603f99c56888",
            "fb57d912d1f84516a557d5ce336ba77c",
            "24bc63096f9649c3aa0e99259f401f25",
            "b0f65517c6ac4e9db42b4d6541e9aa98",
            "a2583ddfad54409ca9583f0780358fd6",
            "53d36203f7674ec2be148f390978d197",
            "a227c6b800624c24a235f3bdbb648f2c",
            "c86eb93a902c4602affb67704bd96a91",
            "11d3eef73e9a4450ae1aa3d29d72fd8b",
            "90001eb0108c4179a131b41c3fdc0c33",
            "1d1f567b6edc477c992561573b2bebaf",
            "eaf79c92eae14f89b372c425bec2ce05",
            "e96dfffa265646119495063812223116",
            "32eb944e0cee40279400cccca2ce17e7",
            "51712301f69246c0a71589d1d6b8e79d",
            "3a1e82005d9b49a185f7af938ec571c3",
            "239558af258342a184168d77dc27f3c3",
            "a085d4a0faa248f595bc735ed1f98eb7",
            "ce024153e9b44affb66c238b16fb0d3e",
            "fda5f52257ed4ac8b6836b179cd0281c",
            "93975102cab9409c9f3fdec2a1a0368a",
            "db4bac1e6ecb47ee8e3e0d05c7edae68"
          ]
        },
        "outputId": "e191eafb-f395-46cc-9f7c-5aca325f386f"
      },
      "outputs": [
        {
          "output_type": "display_data",
          "data": {
            "text/plain": [
              "Downloading:   0%|          | 0.00/252 [00:00<?, ?B/s]"
            ],
            "application/vnd.jupyter.widget-view+json": {
              "version_major": 2,
              "version_minor": 0,
              "model_id": "ab96f760a0294349ae4e676236add098"
            }
          },
          "metadata": {}
        },
        {
          "output_type": "display_data",
          "data": {
            "text/plain": [
              "Downloading:   0%|          | 0.00/689 [00:00<?, ?B/s]"
            ],
            "application/vnd.jupyter.widget-view+json": {
              "version_major": 2,
              "version_minor": 0,
              "model_id": "5a9cb2cb2a994ab48108c2418e7f2df1"
            }
          },
          "metadata": {}
        },
        {
          "output_type": "display_data",
          "data": {
            "text/plain": [
              "Downloading:   0%|          | 0.00/232k [00:00<?, ?B/s]"
            ],
            "application/vnd.jupyter.widget-view+json": {
              "version_major": 2,
              "version_minor": 0,
              "model_id": "e29c79fccd504d5fae6f9c86015cb78d"
            }
          },
          "metadata": {}
        },
        {
          "output_type": "display_data",
          "data": {
            "text/plain": [
              "Downloading:   0%|          | 0.00/112 [00:00<?, ?B/s]"
            ],
            "application/vnd.jupyter.widget-view+json": {
              "version_major": 2,
              "version_minor": 0,
              "model_id": "abf4f42b235247e58d2c603f99c56888"
            }
          },
          "metadata": {}
        },
        {
          "output_type": "display_data",
          "data": {
            "text/plain": [
              "Downloading:   0%|          | 0.00/438M [00:00<?, ?B/s]"
            ],
            "application/vnd.jupyter.widget-view+json": {
              "version_major": 2,
              "version_minor": 0,
              "model_id": "eaf79c92eae14f89b372c425bec2ce05"
            }
          },
          "metadata": {}
        }
      ],
      "source": [
        "encoder = 'SimCSE'\n",
        "tokenizer, model = load_encoder(encoder)"
      ]
    },
    {
      "cell_type": "code",
      "execution_count": null,
      "metadata": {
        "id": "ZB18ZSdJXe0Z"
      },
      "outputs": [],
      "source": [
        "k = 10\n",
        "sents_embed = get_embeddings(sents, encoder, tokenizer, model)\n",
        "ques_embed = get_embeddings(ques, encoder, tokenizer, model)\n",
        "D, I = get_k_nearest_neighbours(sents_embed, ques_embed, k)\n",
        "pred_para = sent_id_to_para_id(I, para_id)"
      ]
    },
    {
      "cell_type": "code",
      "execution_count": null,
      "metadata": {
        "colab": {
          "base_uri": "https://localhost:8080/"
        },
        "id": "WFI6AKhxXe0a",
        "outputId": "11b88929-76e9-420c-bf0d-02f450c86278"
      },
      "outputs": [
        {
          "name": "stdout",
          "output_type": "stream",
          "text": [
            "question: When did Beyonce leave Destiny's Child and become a solo singer?\n",
            "similar sentences:\n",
            "\tTarget sentence | Predicted Para ID | Distance between target sentence and query\n",
            "\t After the release of Dangerously in Love, Beyoncé had planned to produce a follow-up album using several of the left-over tracks. | 11 | 23.658646\n",
            "\t When The Guardian named her Artist of the Decade, Llewyn-Smith wrote, \"Why Beyoncé? | 50 | 24.23243\n",
            "\t In February 2013, Beyoncé said that Madonna inspired her to take control of her own career. | 40 | 25.370155\n",
            "\t In early 2001, while Destiny's Child was completing their third album, Beyoncé landed a major role in the MTV made-for-television film, Carmen: A Hip Hopera, starring alongside American actor Mekhi Phifer. | 8 | 25.500847\n",
            "\t Their hiatus saw the release of Beyoncé's debut album, Dangerously in Love (2003), which established her as a solo artist worldwide, earned five Grammy Awards and featured the Billboard Hot 100 number-one singles \"Crazy in Love\" and \"Baby Boy\". | 0 | 25.838299\n",
            "\t Beyoncé stated that she struggled to speak about her depression because Destiny's Child had just won their first Grammy Award and she feared no one would take her seriously. | 7 | 25.909882\n",
            "\t Beyoncé announced a hiatus from her music career in January 2010, heeding her mother's advice, \"to live life, to be inspired by things again\". | 17 | 26.701424\n",
            "\t Born and raised in Houston, Texas, she performed in various singing and dancing competitions as a child, and rose to fame in the late 1990s as lead singer of R&B girl-group Destiny's Child. | 0 | 27.247742\n",
            "\t Sasha was conceived during the making of \"Crazy in Love\", and Beyoncé introduced her with the release of her 2008 album I Am... Sasha Fierce. | 43 | 27.618217\n",
            "\t A self-described \"modern-day feminist\", Beyoncé creates songs that are often characterized by themes of love, relationships, and monogamy, as well as female sexuality and empowerment. | 2 | 27.848145\n"
          ]
        }
      ],
      "source": [
        "print_example(0, sents, ques, pred_para, I, D)"
      ]
    },
    {
      "cell_type": "code",
      "execution_count": null,
      "metadata": {
        "colab": {
          "base_uri": "https://localhost:8080/",
          "height": 388
        },
        "id": "t6HFmLFfXe0a",
        "outputId": "d4a2f509-f379-49eb-c9a7-0cf596a4bfb8"
      },
      "outputs": [
        {
          "name": "stdout",
          "output_type": "stream",
          "text": [
            "Total queries: 523\n",
            "In top 10 results, number of queries for which -\n",
            "\tRelevant paragraph found: 447 (85 %)\n",
            "\tRelevant paragraph NOT found: 76 (15 %)\n",
            "Mean Rank for which relevant paragraph found: 2.24\n",
            "\n"
          ]
        },
        {
          "data": {
            "image/png": "[encoded data removed]",
            "text/plain": [
              "<Figure size 432x288 with 1 Axes>"
            ]
          },
          "metadata": {},
          "output_type": "display_data"
        }
      ],
      "source": [
        "evaluate_results(pred_para, gold_para)"
      ]
    },
    {
      "cell_type": "code",
      "execution_count": null,
      "metadata": {
        "id": "HY1Ud3xq6Rjz"
      },
      "outputs": [],
      "source": []
    },
    {
      "cell_type": "code",
      "execution_count": null,
      "metadata": {
        "colab": {
          "base_uri": "https://localhost:8080/"
        },
        "id": "4hZxasmu6R33",
        "outputId": "e841db5c-fd50-495f-9784-efc6e0cdd703"
      },
      "outputs": [
        {
          "name": "stdout",
          "output_type": "stream",
          "text": [
            "10/361 themes evaluated"
          ]
        }
      ],
      "source": [
        "# Retrieving sentences for all themes\n",
        "\n",
        "k = 10\n",
        "numThemes = len(theme_wise_data.keys())\n",
        "total = 0\n",
        "notInTopKSum = 0\n",
        "rankSum = 0.\n",
        "i = 0\n",
        "\n",
        "for theme in theme_wise_data:\n",
        "    paras, ques, gold_para, _ = load_ques_by_theme(theme, theme_wise_data, answerable_only=True)\n",
        "    sents, para_id = load_sents_from_para(paras)\n",
        "\n",
        "    sents_tok = tokenizer(sents, padding=True, truncation=True, return_tensors=\"pt\")\n",
        "    ques_tok = tokenizer(ques, padding=True, truncation=True, return_tensors=\"pt\")\n",
        "\n",
        "    with torch.no_grad():\n",
        "        sents_embed = model(**sents_tok, output_hidden_states=True, return_dict=True).pooler_output\n",
        "        ques_embed = model(**ques_tok, output_hidden_states=True, return_dict=True).pooler_output\n",
        "\n",
        "    D, I = get_k_nearest_neighbours(sents_embed, ques_embed, k)\n",
        "    pred_para = sent_id_to_para_id(I, para_id)\n",
        "\n",
        "    notInTopK, avg = getMeanRank(pred_para, gold_para)\n",
        "    total += len(ques)\n",
        "    notInTopKSum += notInTopK\n",
        "    rankSum += avg * (len(ques) - notInTopK)\n",
        "\n",
        "    i += 1\n",
        "    print(f'\\r{i}/{numThemes} themes evaluated', end='')\n",
        "    if i == 10:\n",
        "        break"
      ]
    },
    {
      "cell_type": "code",
      "execution_count": null,
      "metadata": {
        "colab": {
          "base_uri": "https://localhost:8080/"
        },
        "id": "BDbFt9ZT6R34",
        "outputId": "bfdf7ff4-e626-4564-8ec2-b2dfb68f222b"
      },
      "outputs": [
        {
          "name": "stdout",
          "output_type": "stream",
          "text": [
            "Total queries: 3138\n",
            "In top 10 results, number of queries for which -\n",
            "\tRelevant paragraph found: 2693 (85.82 %)\n",
            "\tRelevant paragraph NOT found: 445 (14.18 %)\n",
            "Mean Rank for which relevant paragraph found: 1.8\n"
          ]
        }
      ],
      "source": [
        "inTopKSum = total - notInTopKSum\n",
        "print(f\"Total queries: {total}\")\n",
        "print(f\"In top {k} results, number of queries for which -\")\n",
        "print(f\"\\tRelevant paragraph found: {inTopKSum} ({round(100.*inTopKSum / total, 2)} %)\")\n",
        "print(f\"\\tRelevant paragraph NOT found: {notInTopKSum} ({round(100.*notInTopKSum / total, 2)} %)\")\n",
        "print(f\"Mean Rank for which relevant paragraph found: {round(rankSum / total, 2)}\")"
      ]
    },
    {
      "cell_type": "code",
      "execution_count": null,
      "metadata": {
        "id": "dae-JG5J6RQJ"
      },
      "outputs": [],
      "source": [
        "# 23 mins 44 secs for 3138 queries consisting of 10 themes"
      ]
    },
    {
      "cell_type": "markdown",
      "metadata": {
        "id": "O4D8Xx5ipGzd"
      },
      "source": [
        "### Approach 2: Using passage embeddings"
      ]
    },
    {
      "cell_type": "markdown",
      "metadata": {
        "id": "Alr1OJ8DGNwW"
      },
      "source": [
        "#### 1. Using RocketQA"
      ]
    },
    {
      "cell_type": "code",
      "execution_count": null,
      "metadata": {
        "colab": {
          "base_uri": "https://localhost:8080/"
        },
        "id": "JgckoiqnGSBl",
        "outputId": "ac14ec34-5c1a-4429-885b-81fc696d44fd"
      },
      "outputs": [
        {
          "name": "stdout",
          "output_type": "stream",
          "text": [
            "Looking in indexes: https://pypi.org/simple, https://us-python.pkg.dev/colab-wheels/public/simple/\n",
            "Collecting paddlepaddle\n",
            "  Downloading paddlepaddle-2.4.1-cp38-cp38-manylinux1_x86_64.whl (121.6 MB)\n",
            "\u001b[K     |████████████████████████████████| 121.6 MB 45 kB/s \n",
            "\u001b[?25hCollecting rocketqa\n",
            "  Downloading rocketqa-1.1.0-py3-none-any.whl (56 kB)\n",
            "\u001b[K     |████████████████████████████████| 56 kB 3.7 MB/s \n",
            "\u001b[?25hCollecting paddle-bfloat==0.1.7\n",
            "  Downloading paddle_bfloat-0.1.7-cp38-cp38-manylinux_2_17_x86_64.manylinux2014_x86_64.whl (385 kB)\n",
            "\u001b[K     |████████████████████████████████| 385 kB 59.6 MB/s \n",
            "\u001b[?25hRequirement already satisfied: numpy>=1.13 in /usr/local/lib/python3.8/dist-packages (from paddlepaddle) (1.21.6)\n",
            "Requirement already satisfied: Pillow in /usr/local/lib/python3.8/dist-packages (from paddlepaddle) (7.1.2)\n",
            "Requirement already satisfied: astor in /usr/local/lib/python3.8/dist-packages (from paddlepaddle) (0.8.1)\n",
            "Requirement already satisfied: requests>=2.20.0 in /usr/local/lib/python3.8/dist-packages (from paddlepaddle) (2.23.0)\n",
            "Requirement already satisfied: protobuf<=3.20.0,>=3.1.0 in /usr/local/lib/python3.8/dist-packages (from paddlepaddle) (3.19.6)\n",
            "Requirement already satisfied: six in /usr/local/lib/python3.8/dist-packages (from paddlepaddle) (1.15.0)\n",
            "Requirement already satisfied: decorator in /usr/local/lib/python3.8/dist-packages (from paddlepaddle) (4.4.2)\n",
            "Requirement already satisfied: opt-einsum==3.3.0 in /usr/local/lib/python3.8/dist-packages (from paddlepaddle) (3.3.0)\n",
            "Requirement already satisfied: certifi>=2017.4.17 in /usr/local/lib/python3.8/dist-packages (from requests>=2.20.0->paddlepaddle) (2022.12.7)\n",
            "Requirement already satisfied: idna<3,>=2.5 in /usr/local/lib/python3.8/dist-packages (from requests>=2.20.0->paddlepaddle) (2.10)\n",
            "Requirement already satisfied: urllib3!=1.25.0,!=1.25.1,<1.26,>=1.21.1 in /usr/local/lib/python3.8/dist-packages (from requests>=2.20.0->paddlepaddle) (1.24.3)\n",
            "Requirement already satisfied: chardet<4,>=3.0.2 in /usr/local/lib/python3.8/dist-packages (from requests>=2.20.0->paddlepaddle) (3.0.4)\n",
            "Requirement already satisfied: tqdm in /usr/local/lib/python3.8/dist-packages (from rocketqa) (4.64.1)\n",
            "Installing collected packages: paddle-bfloat, rocketqa, paddlepaddle\n",
            "Successfully installed paddle-bfloat-0.1.7 paddlepaddle-2.4.1 rocketqa-1.1.0\n"
          ]
        }
      ],
      "source": [
        "!pip install paddlepaddle rocketqa"
      ]
    },
    {
      "cell_type": "code",
      "execution_count": null,
      "metadata": {
        "colab": {
          "base_uri": "https://localhost:8080/"
        },
        "id": "4ixGdeOaGxK-",
        "outputId": "1bbdf27f-6d54-45df-b40d-51c24e920135"
      },
      "outputs": [
        {
          "name": "stderr",
          "output_type": "stream",
          "text": [
            "RocketQA model [v1_marco_de]\n",
            "Download RocketQA model [v1_marco_de]\n",
            "100%|███████████████████████████████████████| 769M/769M [01:42<00:00, 7.88MiB/s]\n",
            "WARNING:root:paddle.fluid.layers.py_reader() may be deprecated in the near future. Please use paddle.fluid.io.DataLoader.from_generator() instead.\n",
            "Load model done\n"
          ]
        }
      ],
      "source": [
        "import rocketqa\n",
        "import numpy as np\n",
        "\n",
        "# init dual encoder\n",
        "dual_encoder = rocketqa.load_model(model=\"v1_marco_de\", use_cuda=False, device_id=0, batch_size=16)"
      ]
    },
    {
      "cell_type": "code",
      "execution_count": null,
      "metadata": {
        "colab": {
          "base_uri": "https://localhost:8080/"
        },
        "id": "zYjY0ExYYmDr",
        "outputId": "1dd25198-02d3-4b60-9f30-98a6b8d1e991"
      },
      "outputs": [
        {
          "name": "stdout",
          "output_type": "stream",
          "text": [
            "Number of examples = 75056\n",
            "\tAnswerable questions = 50126\n",
            "\tNon-Answerable questions = 24930\n",
            "\n",
            "Examples:\n",
            " | Theme  |  Paragraph...  |  Question | Answer_possible | Answer_text | Answer_start\n",
            "1430 | Frédéric_Chopin  |  Some modern commenta...  |  Who said Chopin's works were modeled after Bach, Beethoven, Schubert and Field? | True | ['Richard Taruskin'] | [543]\n",
            "2196 | The_Legend_of_Zelda:_Twilight_Princess  |  Twilight Princess ta...  |  Who releases Bulbins from the Realm of Twilight? | False | [] | []\n",
            "\n",
            "Total 361 themes present.\n"
          ]
        }
      ],
      "source": [
        "train_data = load_data()\n",
        "theme_wise_data = load_theme_wise_data(train_data)"
      ]
    },
    {
      "cell_type": "code",
      "execution_count": null,
      "metadata": {
        "colab": {
          "base_uri": "https://localhost:8080/"
        },
        "id": "xIem-rL7YmDr",
        "outputId": "5b471568-4f57-4f16-a93d-b51be5ee1554"
      },
      "outputs": [
        {
          "name": "stdout",
          "output_type": "stream",
          "text": [
            "Total Questions: 523\n",
            "Total Paragraphs: 66\n"
          ]
        }
      ],
      "source": [
        "paras, ques, gold_para, _ = load_ques_by_theme('Beyoncé', theme_wise_data, answerable_only=True)"
      ]
    },
    {
      "cell_type": "code",
      "execution_count": null,
      "metadata": {
        "colab": {
          "base_uri": "https://localhost:8080/"
        },
        "id": "AKho0QPDYmDs",
        "outputId": "a9c21292-15af-4f0e-b01f-f6495b9b8891"
      },
      "outputs": [
        {
          "name": "stdout",
          "output_type": "stream",
          "text": [
            "(66, 768)\n",
            "(523, 768)\n"
          ]
        }
      ],
      "source": [
        "para_embed = np.array(list(dual_encoder.encode_para(para=paras)))\n",
        "ques_embed = np.array(list(dual_encoder.encode_query(query=ques)))\n",
        "\n",
        "print(para_embed.shape)\n",
        "print(ques_embed.shape)"
      ]
    },
    {
      "cell_type": "code",
      "execution_count": null,
      "metadata": {
        "id": "3nw3RZT-YmDs"
      },
      "outputs": [],
      "source": [
        "k = 10\n",
        "D, I = get_k_nearest_neighbours(para_embed, ques_embed, k)"
      ]
    },
    {
      "cell_type": "code",
      "execution_count": null,
      "metadata": {
        "colab": {
          "base_uri": "https://localhost:8080/",
          "height": 388
        },
        "id": "-x-HCHIwYmDt",
        "outputId": "bc840129-6c4a-49d4-876a-ac4cf6e91b3b"
      },
      "outputs": [
        {
          "name": "stdout",
          "output_type": "stream",
          "text": [
            "Total queries: 523\n",
            "In top 10 results, number of queries for which -\n",
            "\tRelevant paragraph found: 420 (80 %)\n",
            "\tRelevant paragraph NOT found: 103 (20 %)\n",
            "Mean Rank for which relevant paragraph found: 2.36\n",
            "\n"
          ]
        },
        {
          "data": {
            "image/png": "[encoded data removed]",
            "text/plain": [
              "<Figure size 432x288 with 1 Axes>"
            ]
          },
          "metadata": {},
          "output_type": "display_data"
        }
      ],
      "source": [
        "evaluate_results(I, gold_para)"
      ]
    },
    {
      "cell_type": "code",
      "execution_count": null,
      "metadata": {
        "id": "NYDx2X84Tfpy"
      },
      "outputs": [],
      "source": []
    },
    {
      "cell_type": "markdown",
      "metadata": {
        "id": "pfJHs6rkjXwy"
      },
      "source": [
        "#### 2. Using DPRReader"
      ]
    },
    {
      "cell_type": "code",
      "execution_count": null,
      "metadata": {
        "colab": {
          "base_uri": "https://localhost:8080/"
        },
        "id": "12Sag-hE4Sli",
        "outputId": "5d985d9e-5ef6-45a5-89eb-2b9fc2796087"
      },
      "outputs": [
        {
          "name": "stdout",
          "output_type": "stream",
          "text": [
            "Looking in indexes: https://pypi.org/simple, https://us-python.pkg.dev/colab-wheels/public/simple/\n",
            "Collecting transformers\n",
            "  Downloading transformers-4.25.1-py3-none-any.whl (5.8 MB)\n",
            "\u001b[K     |████████████████████████████████| 5.8 MB 4.6 MB/s \n",
            "\u001b[?25hRequirement already satisfied: tqdm>=4.27 in /usr/local/lib/python3.8/dist-packages (from transformers) (4.64.1)\n",
            "Requirement already satisfied: packaging>=20.0 in /usr/local/lib/python3.8/dist-packages (from transformers) (21.3)\n",
            "Requirement already satisfied: numpy>=1.17 in /usr/local/lib/python3.8/dist-packages (from transformers) (1.21.6)\n",
            "Requirement already satisfied: regex!=2019.12.17 in /usr/local/lib/python3.8/dist-packages (from transformers) (2022.6.2)\n",
            "Collecting tokenizers!=0.11.3,<0.14,>=0.11.1\n",
            "  Downloading tokenizers-0.13.2-cp38-cp38-manylinux_2_17_x86_64.manylinux2014_x86_64.whl (7.6 MB)\n",
            "\u001b[K     |████████████████████████████████| 7.6 MB 32.4 MB/s \n",
            "\u001b[?25hRequirement already satisfied: requests in /usr/local/lib/python3.8/dist-packages (from transformers) (2.23.0)\n",
            "Requirement already satisfied: filelock in /usr/local/lib/python3.8/dist-packages (from transformers) (3.8.2)\n",
            "Requirement already satisfied: pyyaml>=5.1 in /usr/local/lib/python3.8/dist-packages (from transformers) (6.0)\n",
            "Collecting huggingface-hub<1.0,>=0.10.0\n",
            "  Downloading huggingface_hub-0.11.1-py3-none-any.whl (182 kB)\n",
            "\u001b[K     |████████████████████████████████| 182 kB 58.6 MB/s \n",
            "\u001b[?25hRequirement already satisfied: typing-extensions>=3.7.4.3 in /usr/local/lib/python3.8/dist-packages (from huggingface-hub<1.0,>=0.10.0->transformers) (4.4.0)\n",
            "Requirement already satisfied: pyparsing!=3.0.5,>=2.0.2 in /usr/local/lib/python3.8/dist-packages (from packaging>=20.0->transformers) (3.0.9)\n",
            "Requirement already satisfied: certifi>=2017.4.17 in /usr/local/lib/python3.8/dist-packages (from requests->transformers) (2022.12.7)\n",
            "Requirement already satisfied: urllib3!=1.25.0,!=1.25.1,<1.26,>=1.21.1 in /usr/local/lib/python3.8/dist-packages (from requests->transformers) (1.24.3)\n",
            "Requirement already satisfied: idna<3,>=2.5 in /usr/local/lib/python3.8/dist-packages (from requests->transformers) (2.10)\n",
            "Requirement already satisfied: chardet<4,>=3.0.2 in /usr/local/lib/python3.8/dist-packages (from requests->transformers) (3.0.4)\n",
            "Installing collected packages: tokenizers, huggingface-hub, transformers\n",
            "Successfully installed huggingface-hub-0.11.1 tokenizers-0.13.2 transformers-4.25.1\n"
          ]
        }
      ],
      "source": [
        "!pip install transformers"
      ]
    },
    {
      "cell_type": "code",
      "execution_count": null,
      "metadata": {
        "colab": {
          "base_uri": "https://localhost:8080/",
          "height": 411,
          "referenced_widgets": [
            "514e923dad884a058bcbee6c35c67778",
            "54c4585166a9403cb028a9dd27f690cb",
            "6ecc4ea49d4c4444806c903878895524",
            "446e743d8c72463ea8835763b03107e2",
            "d91faddd2b4f4fcf9df545f4a1b65ce7",
            "af6429eabf96430c90d8491e684d28f6",
            "a220f6c932264395bc32521437450143",
            "99233caa172a4611b764641d5ff7329e",
            "fdf23b9aeb524cd691d4cbced848567b",
            "3b5016908252422b9670da0653623322"
          ]
        },
        "id": "ymUnIDKMgsY5",
        "outputId": "d008591e-e34c-492d-85ff-f61928308da1"
      },
      "outputs": [
        {
          "data": {
            "application/vnd.jupyter.widget-view+json": {
              "model_id": "514e923dad884a058bcbee6c35c67778",
              "version_major": 2,
              "version_minor": 0
            },
            "text/plain": [
              "Downloading:   0%|          | 0.00/28.0 [00:00<?, ?B/s]"
            ]
          },
          "metadata": {},
          "output_type": "display_data"
        },
        {
          "data": {
            "application/vnd.jupyter.widget-view+json": {
              "model_id": "54c4585166a9403cb028a9dd27f690cb",
              "version_major": 2,
              "version_minor": 0
            },
            "text/plain": [
              "Downloading:   0%|          | 0.00/232k [00:00<?, ?B/s]"
            ]
          },
          "metadata": {},
          "output_type": "display_data"
        },
        {
          "data": {
            "application/vnd.jupyter.widget-view+json": {
              "model_id": "6ecc4ea49d4c4444806c903878895524",
              "version_major": 2,
              "version_minor": 0
            },
            "text/plain": [
              "Downloading:   0%|          | 0.00/466k [00:00<?, ?B/s]"
            ]
          },
          "metadata": {},
          "output_type": "display_data"
        },
        {
          "data": {
            "application/vnd.jupyter.widget-view+json": {
              "model_id": "446e743d8c72463ea8835763b03107e2",
              "version_major": 2,
              "version_minor": 0
            },
            "text/plain": [
              "Downloading:   0%|          | 0.00/492 [00:00<?, ?B/s]"
            ]
          },
          "metadata": {},
          "output_type": "display_data"
        },
        {
          "name": "stderr",
          "output_type": "stream",
          "text": [
            "The tokenizer class you load from this checkpoint is not the same type as the class this function is called from. It may result in unexpected tokenization. \n",
            "The tokenizer class you load from this checkpoint is 'DPRQuestionEncoderTokenizer'. \n",
            "The class this function is called from is 'DPRContextEncoderTokenizer'.\n"
          ]
        },
        {
          "data": {
            "application/vnd.jupyter.widget-view+json": {
              "model_id": "d91faddd2b4f4fcf9df545f4a1b65ce7",
              "version_major": 2,
              "version_minor": 0
            },
            "text/plain": [
              "Downloading:   0%|          | 0.00/438M [00:00<?, ?B/s]"
            ]
          },
          "metadata": {},
          "output_type": "display_data"
        },
        {
          "data": {
            "application/vnd.jupyter.widget-view+json": {
              "model_id": "af6429eabf96430c90d8491e684d28f6",
              "version_major": 2,
              "version_minor": 0
            },
            "text/plain": [
              "Downloading:   0%|          | 0.00/28.0 [00:00<?, ?B/s]"
            ]
          },
          "metadata": {},
          "output_type": "display_data"
        },
        {
          "data": {
            "application/vnd.jupyter.widget-view+json": {
              "model_id": "a220f6c932264395bc32521437450143",
              "version_major": 2,
              "version_minor": 0
            },
            "text/plain": [
              "Downloading:   0%|          | 0.00/232k [00:00<?, ?B/s]"
            ]
          },
          "metadata": {},
          "output_type": "display_data"
        },
        {
          "data": {
            "application/vnd.jupyter.widget-view+json": {
              "model_id": "99233caa172a4611b764641d5ff7329e",
              "version_major": 2,
              "version_minor": 0
            },
            "text/plain": [
              "Downloading:   0%|          | 0.00/466k [00:00<?, ?B/s]"
            ]
          },
          "metadata": {},
          "output_type": "display_data"
        },
        {
          "data": {
            "application/vnd.jupyter.widget-view+json": {
              "model_id": "fdf23b9aeb524cd691d4cbced848567b",
              "version_major": 2,
              "version_minor": 0
            },
            "text/plain": [
              "Downloading:   0%|          | 0.00/493 [00:00<?, ?B/s]"
            ]
          },
          "metadata": {},
          "output_type": "display_data"
        },
        {
          "data": {
            "application/vnd.jupyter.widget-view+json": {
              "model_id": "3b5016908252422b9670da0653623322",
              "version_major": 2,
              "version_minor": 0
            },
            "text/plain": [
              "Downloading:   0%|          | 0.00/438M [00:00<?, ?B/s]"
            ]
          },
          "metadata": {},
          "output_type": "display_data"
        }
      ],
      "source": [
        "import torch\n",
        "\n",
        "from transformers import DPRContextEncoder, DPRContextEncoderTokenizer\n",
        "from transformers import DPRQuestionEncoder, DPRQuestionEncoderTokenizer\n",
        "\n",
        "para_tokenizer = DPRContextEncoderTokenizer.from_pretrained(\"facebook/dpr-ctx_encoder-single-nq-base\")\n",
        "para_model = DPRContextEncoder.from_pretrained(\"facebook/dpr-ctx_encoder-single-nq-base\")\n",
        "\n",
        "ques_tokenizer = DPRQuestionEncoderTokenizer.from_pretrained(\"facebook/dpr-question_encoder-single-nq-base\")\n",
        "ques_model = DPRQuestionEncoder.from_pretrained(\"facebook/dpr-question_encoder-single-nq-base\")"
      ]
    },
    {
      "cell_type": "code",
      "execution_count": null,
      "metadata": {
        "colab": {
          "base_uri": "https://localhost:8080/"
        },
        "id": "QWcll9NWgL77",
        "outputId": "2188cac4-06b7-4f21-85fa-b28d7dd37cde"
      },
      "outputs": [
        {
          "name": "stdout",
          "output_type": "stream",
          "text": [
            "Number of examples = 75056\n",
            "\tAnswerable questions = 50126\n",
            "\tNon-Answerable questions = 24930\n",
            "\n",
            "Examples:\n",
            " | Theme  |  Paragraph...  |  Question | Answer_possible | Answer_text | Answer_start\n",
            "1430 | Frédéric_Chopin  |  Some modern commenta...  |  Who said Chopin's works were modeled after Bach, Beethoven, Schubert and Field? | True | ['Richard Taruskin'] | [543]\n",
            "2196 | The_Legend_of_Zelda:_Twilight_Princess  |  Twilight Princess ta...  |  Who releases Bulbins from the Realm of Twilight? | False | [] | []\n",
            "\n",
            "Total 361 themes present.\n"
          ]
        }
      ],
      "source": [
        "train_data = load_data()\n",
        "theme_wise_data = load_theme_wise_data(train_data)"
      ]
    },
    {
      "cell_type": "code",
      "execution_count": null,
      "metadata": {
        "colab": {
          "base_uri": "https://localhost:8080/"
        },
        "id": "T58FeVJcgL78",
        "outputId": "67de2e60-f354-4714-a551-02e0e11ddcab"
      },
      "outputs": [
        {
          "name": "stdout",
          "output_type": "stream",
          "text": [
            "Total Questions: 523\n",
            "Total Paragraphs: 66\n"
          ]
        }
      ],
      "source": [
        "paras, ques, gold_para, _ = load_ques_by_theme('Beyoncé', theme_wise_data, answerable_only=True)\n",
        "# sents, para_id = load_sents_from_para(paras)"
      ]
    },
    {
      "cell_type": "code",
      "execution_count": null,
      "metadata": {
        "colab": {
          "base_uri": "https://localhost:8080/"
        },
        "id": "5WKN0Bna67Ub",
        "outputId": "67398f4c-410b-4fdd-d477-e9ae382ac7ce"
      },
      "outputs": [
        {
          "name": "stdout",
          "output_type": "stream",
          "text": [
            "100.0 % completed\n",
            "torch.Size([66, 768])\n"
          ]
        }
      ],
      "source": [
        "para_embeds = []\n",
        "for i, para in enumerate(paras):\n",
        "    para_input_ids = para_tokenizer(para, return_tensors=\"pt\")[\"input_ids\"]\n",
        "    with torch.no_grad():\n",
        "        para_embeddings = para_model(para_input_ids).pooler_output\n",
        "    para_embeds.append(para_embeddings)\n",
        "    print(f'\\r{round(100.*(i+1) / len(paras), 2)} % completed', end='')\n",
        "\n",
        "p = torch.cat(para_embeds, dim=0)\n",
        "print(f'\\n{p.shape}')"
      ]
    },
    {
      "cell_type": "code",
      "execution_count": null,
      "metadata": {
        "id": "En-j029H7Uod"
      },
      "outputs": [],
      "source": [
        "ques_embeds = []\n",
        "for i, query in enumerate(ques):\n",
        "    ques_input_ids = ques_tokenizer(query, padding=True, return_tensors=\"pt\")[\"input_ids\"]\n",
        "    with torch.no_grad():\n",
        "        ques_embeddings = ques_model(ques_input_ids).pooler_output\n",
        "    ques_embeds.append(ques_embeddings)\n",
        "    print(f'\\r{round(100.*(i+1) / len(ques), 2)} % completed', end='')\n",
        "\n",
        "q = torch.cat(ques_embeds, dim=0)\n",
        "print(f'\\n{q.shape}')"
      ]
    },
    {
      "cell_type": "code",
      "execution_count": null,
      "metadata": {
        "id": "s4MT_tgigL79"
      },
      "outputs": [],
      "source": [
        "k = 10\n",
        "D, I = get_k_nearest_neighbours(p, q, k)\n",
        "# pred_para = sent_id_to_para_id(I, para_id)"
      ]
    },
    {
      "cell_type": "code",
      "execution_count": null,
      "metadata": {
        "colab": {
          "base_uri": "https://localhost:8080/",
          "height": 388
        },
        "id": "OFQkmJDegL7-",
        "outputId": "158013be-e7c5-4a32-9375-bb502d8307cd"
      },
      "outputs": [
        {
          "name": "stdout",
          "output_type": "stream",
          "text": [
            "Total queries: 523\n",
            "In top 10 results, number of queries for which -\n",
            "\tRelevant paragraph found: 346 (66 %)\n",
            "\tRelevant paragraph NOT found: 177 (34 %)\n",
            "Mean Rank for which relevant paragraph found: 3.58\n",
            "\n"
          ]
        },
        {
          "data": {
            "image/png": "[encoded data removed]",
            "text/plain": [
              "<Figure size 432x288 with 1 Axes>"
            ]
          },
          "metadata": {},
          "output_type": "display_data"
        }
      ],
      "source": [
        "evaluate_results(I, gold_para)"
      ]
    },
    {
      "cell_type": "code",
      "execution_count": null,
      "metadata": {
        "id": "-Gfok653glf2"
      },
      "outputs": [],
      "source": []
    },
    {
      "cell_type": "markdown",
      "metadata": {
        "id": "jjKilEmrgnHf"
      },
      "source": [
        "##### Using DPR Reader model itself for prediction (Incomplete)"
      ]
    },
    {
      "cell_type": "code",
      "execution_count": null,
      "metadata": {
        "colab": {
          "base_uri": "https://localhost:8080/",
          "height": 306,
          "referenced_widgets": [
            "08d0f64a6fce404196d5c72a12301bb7",
            "6d636b6192d34eefbd6129bdf81a15f9",
            "25143b52e5224f2189bb47281b7d9713",
            "f65c797093bc4647a60025ef356e28b5",
            "9c98372306024fb89bcb8b49b788ff75"
          ]
        },
        "id": "FVa1Yr8GUNB5",
        "outputId": "e3ace17a-d313-4ea0-80a7-809456734c19"
      },
      "outputs": [
        {
          "data": {
            "application/vnd.jupyter.widget-view+json": {
              "model_id": "08d0f64a6fce404196d5c72a12301bb7",
              "version_major": 2,
              "version_minor": 0
            },
            "text/plain": [
              "Downloading:   0%|          | 0.00/28.0 [00:00<?, ?B/s]"
            ]
          },
          "metadata": {},
          "output_type": "display_data"
        },
        {
          "data": {
            "application/vnd.jupyter.widget-view+json": {
              "model_id": "6d636b6192d34eefbd6129bdf81a15f9",
              "version_major": 2,
              "version_minor": 0
            },
            "text/plain": [
              "Downloading:   0%|          | 0.00/232k [00:00<?, ?B/s]"
            ]
          },
          "metadata": {},
          "output_type": "display_data"
        },
        {
          "data": {
            "application/vnd.jupyter.widget-view+json": {
              "model_id": "25143b52e5224f2189bb47281b7d9713",
              "version_major": 2,
              "version_minor": 0
            },
            "text/plain": [
              "Downloading:   0%|          | 0.00/466k [00:00<?, ?B/s]"
            ]
          },
          "metadata": {},
          "output_type": "display_data"
        },
        {
          "data": {
            "application/vnd.jupyter.widget-view+json": {
              "model_id": "f65c797093bc4647a60025ef356e28b5",
              "version_major": 2,
              "version_minor": 0
            },
            "text/plain": [
              "Downloading:   0%|          | 0.00/484 [00:00<?, ?B/s]"
            ]
          },
          "metadata": {},
          "output_type": "display_data"
        },
        {
          "name": "stderr",
          "output_type": "stream",
          "text": [
            "The tokenizer class you load from this checkpoint is not the same type as the class this function is called from. It may result in unexpected tokenization. \n",
            "The tokenizer class you load from this checkpoint is 'DPRQuestionEncoderTokenizer'. \n",
            "The class this function is called from is 'DPRReaderTokenizer'.\n"
          ]
        },
        {
          "data": {
            "application/vnd.jupyter.widget-view+json": {
              "model_id": "9c98372306024fb89bcb8b49b788ff75",
              "version_major": 2,
              "version_minor": 0
            },
            "text/plain": [
              "Downloading:   0%|          | 0.00/438M [00:00<?, ?B/s]"
            ]
          },
          "metadata": {},
          "output_type": "display_data"
        },
        {
          "name": "stderr",
          "output_type": "stream",
          "text": [
            "Some weights of the model checkpoint at facebook/dpr-reader-single-nq-base were not used when initializing DPRReader: ['span_predictor.encoder.bert_model.pooler.dense.weight', 'span_predictor.encoder.bert_model.pooler.dense.bias']\n",
            "- This IS expected if you are initializing DPRReader from the checkpoint of a model trained on another task or with another architecture (e.g. initializing a BertForSequenceClassification model from a BertForPreTraining model).\n",
            "- This IS NOT expected if you are initializing DPRReader from the checkpoint of a model that you expect to be exactly identical (initializing a BertForSequenceClassification model from a BertForSequenceClassification model).\n"
          ]
        }
      ],
      "source": [
        "from transformers import DPRReader, DPRReaderTokenizer\n",
        "import torch\n",
        "\n",
        "tokenizer = DPRReaderTokenizer.from_pretrained(\"facebook/dpr-reader-single-nq-base\")\n",
        "model = DPRReader.from_pretrained(\"facebook/dpr-reader-single-nq-base\")"
      ]
    },
    {
      "cell_type": "code",
      "execution_count": null,
      "metadata": {
        "id": "tI368LCuXoH4"
      },
      "outputs": [],
      "source": [
        "query_list = theme_wise_data['Beyoncé']['ques']\n",
        "para_list = theme_wise_data['Beyoncé']['para']"
      ]
    },
    {
      "cell_type": "code",
      "execution_count": null,
      "metadata": {
        "colab": {
          "base_uri": "https://localhost:8080/"
        },
        "id": "E7nE-e3lWFTt",
        "outputId": "ad287414-af9d-44c5-c20a-47194c1aa4f4"
      },
      "outputs": [
        {
          "data": {
            "text/plain": [
              "{'input_ids': tensor([[  101,  2043,  2106, 20773,  2681, 10461,  1005,  1055,  2775,  1998,\n",
              "          2468,  1037,  3948,  3220,  1029,   102,   100,   100,   100,   100,\n",
              "           100,   100,   100,   100,   100,   100,   102]]), 'attention_mask': tensor([[1, 1, 1, 1, 1, 1, 1, 1, 1, 1, 1, 1, 1, 1, 1, 1, 1, 1, 1, 1, 1, 1, 1, 1,\n",
              "         1, 1, 1]])}"
            ]
          },
          "execution_count": 50,
          "metadata": {},
          "output_type": "execute_result"
        }
      ],
      "source": [
        "encoded_inputs = tokenizer(\n",
        "    questions = query_list[0],\n",
        "    texts = para_list,\n",
        "    return_tensors=\"pt\",\n",
        ")\n",
        "encoded_inputs"
      ]
    },
    {
      "cell_type": "code",
      "execution_count": null,
      "metadata": {
        "colab": {
          "base_uri": "https://localhost:8080/"
        },
        "id": "ybbvEfdVYeUb",
        "outputId": "e867cd37-6c85-4ade-e19b-68c5eabd7800"
      },
      "outputs": [
        {
          "data": {
            "text/plain": [
              "tensor([-9.0228])"
            ]
          },
          "execution_count": 51,
          "metadata": {},
          "output_type": "execute_result"
        }
      ],
      "source": [
        "with torch.no_grad():\n",
        "    outputs = model(**encoded_inputs)\n",
        "outputs.relevance_logits"
      ]
    },
    {
      "cell_type": "code",
      "execution_count": null,
      "metadata": {
        "id": "NilLXc2ZglK4"
      },
      "outputs": [],
      "source": []
    },
    {
      "cell_type": "markdown",
      "metadata": {
        "id": "sAbNo9yu1zWf"
      },
      "source": [
        "#### 3. Using DensePhrases for phrase/passage retrieval (Incomplete)"
      ]
    },
    {
      "cell_type": "code",
      "execution_count": null,
      "metadata": {
        "colab": {
          "base_uri": "https://localhost:8080/"
        },
        "id": "aqsql7om36uM",
        "outputId": "0e5ac879-4b34-4508-d1fb-af80c2a48d14"
      },
      "outputs": [
        {
          "name": "stdout",
          "output_type": "stream",
          "text": [
            "Number of examples = 75056\n",
            "\tAnswerable questions = 50126\n",
            "\tNon-Answerable questions = 24930\n",
            "\n",
            "Examples:\n",
            "Theme  |  Paragraph...  |  Question | Answer_possible | Answer_text | Answer_start\n",
            "Frédéric_Chopin  |  Some modern commenta...  |  Who said Chopin's works were modeled after Bach, Beethoven, Schubert and Field? | True | ['Richard Taruskin'] | [543]\n",
            "The_Legend_of_Zelda:_Twilight_Princess  |  Twilight Princess ta...  |  Who releases Bulbins from the Realm of Twilight? | False | [] | []\n"
          ]
        }
      ],
      "source": [
        "train_data = load_data()"
      ]
    },
    {
      "cell_type": "code",
      "execution_count": null,
      "metadata": {
        "id": "wAf8wnq7KzIN"
      },
      "outputs": [],
      "source": [
        "!git clone https://www.github.com/nvidia/apex.git\n",
        "%cd apex\n",
        "!git checkout remotes/origin/22.04-dev\n",
        "!python setup.py install\n",
        "%cd .."
      ]
    },
    {
      "cell_type": "code",
      "execution_count": null,
      "metadata": {
        "id": "pSVnflcj3Vim"
      },
      "outputs": [],
      "source": [
        "!git clone -b v1.0.0 https://github.com/princeton-nlp/DensePhrases.git\n",
        "%cd DensePhrases\n",
        "!pip install -r requirements.txt\n",
        "!python setup.py develop"
      ]
    },
    {
      "cell_type": "code",
      "execution_count": null,
      "metadata": {
        "id": "v7L16kfZGRGA"
      },
      "outputs": [],
      "source": [
        "import json\n",
        "\n",
        "# Data to be written\n",
        "articles = {\"data\": []}\n",
        "for theme in theme_wise_data:\n",
        "    content = {\n",
        "        \"title\": theme,\n",
        "        \"paragraphs\": []\n",
        "    }\n",
        "    for para in theme_wise_data[theme][\"paragraphs\"]:\n",
        "        content[\"paragraphs\"].append(para)\n",
        "    articles[\"data\"].append(content)\n",
        "\n",
        "# Serializing json\n",
        "json_object = json.dumps(articles, indent=4)\n",
        "\n",
        "# Writing to articles.json\n",
        "with open(\"articles.json\", \"w\") as outfile:\n",
        "    outfile.write(json_object)"
      ]
    },
    {
      "cell_type": "code",
      "execution_count": null,
      "metadata": {
        "id": "GOq944s6IKEn"
      },
      "outputs": [],
      "source": [
        "questions = {\n",
        "    \"data\": [\n",
        "        {\n",
        "            \"id\": \"1\",\n",
        "            \"question\": \"Who said Chopin's works were modeled after Bach, Beethoven, Schubert and Field?\",\n",
        "            \"answers\": [\"Richard Taruskin\", \"Country singer Kevin Skinner\"]\n",
        "        },\n",
        "        {\n",
        "            \"id\": \"2\",\n",
        "            \"question\": \"What role did Beyoncé have in Destiny's Child?\",\n",
        "            \"answers\": [\"lead singer\"]\n",
        "        },\n",
        "        {\n",
        "            \"id\": \"3\",\n",
        "            \"question\": \"What percentage of Dhulbahante men married women of the Majerteen or Ogaden?\",\n",
        "            \"answers\": [\"4.3%\"]\n",
        "        }\n",
        "    ]\n",
        "}\n",
        "\n",
        "# Serializing json\n",
        "json_object = json.dumps(questions, indent=4)\n",
        "\n",
        "# Writing to articles.json\n",
        "with open(\"questions.json\", \"w\") as outfile:\n",
        "    outfile.write(json_object)"
      ]
    },
    {
      "cell_type": "code",
      "execution_count": null,
      "metadata": {
        "id": "TJVqlZsATFNE"
      },
      "outputs": [],
      "source": [
        "!wget https://nlp.cs.princeton.edu/projects/densephrases/outputs.tar.gz\n",
        "!tar -xvf '/content/DensePhrases/outputs.tar.gz'"
      ]
    },
    {
      "cell_type": "code",
      "execution_count": null,
      "metadata": {
        "colab": {
          "base_uri": "https://localhost:8080/"
        },
        "id": "pXZ2tGszIuOZ",
        "outputId": "2f275d5e-ce27-4a2f-cc53-3d9d5e570fb3"
      },
      "outputs": [
        {
          "name": "stdout",
          "output_type": "stream",
          "text": [
            "WARNING:densephrases.options:WARNING - You've set a doc stride which may be superior to the document length in some examples.\n",
            "WARNING:__main__:Process rank: -1, device: cuda, n_gpu: 1, distributed training: False, 16-bits training: True\n",
            "Traceback (most recent call last):\n",
            "  File \"generate_phrase_vecs.py\", line 231, in <module>\n",
            "    main()\n",
            "  File \"generate_phrase_vecs.py\", line 227, in main\n",
            "    dump_phrases(args, model, tokenizer, filter_only=args.filter_only)\n",
            "  File \"generate_phrase_vecs.py\", line 79, in dump_phrases\n",
            "    dataset, examples, features = load_and_cache_examples(\n",
            "  File \"/content/DensePhrases/densephrases/utils/squad_utils.py\", line 1245, in load_and_cache_examples\n",
            "    examples = processor.get_dev_examples(args.data_dir, filename=args.predict_file, draft=args.draft,\n",
            "  File \"/content/DensePhrases/densephrases/utils/squad_utils.py\", line 809, in get_dev_examples\n",
            "    return self._create_examples(input_data, \"dev\", draft, context_only=context_only, args=args)\n",
            "  File \"/content/DensePhrases/densephrases/utils/squad_utils.py\", line 822, in _create_examples\n",
            "    truecase = TrueCaser(os.path.join(os.environ['DATA_DIR'], args.truecase_path))\n",
            "  File \"/content/DensePhrases/densephrases/utils/squad_utils.py\", line 1460, in __init__\n",
            "    with open(dist_file_path, \"rb\") as distributions_file:\n",
            "FileNotFoundError: [Errno 2] No such file or directory: '/content/DensePhrases/examples/create-custom-index/truecase/english_with_questions.dist'\n"
          ]
        }
      ],
      "source": [
        "!python generate_phrase_vecs.py \\\n",
        "    --model_type bert \\\n",
        "    --pretrained_name_or_path SpanBERT/spanbert-base-cased \\\n",
        "    --data_dir ./ \\\n",
        "    --cache_dir ./cache \\\n",
        "    --predict_file examples/create-custom-index/articles.json \\\n",
        "    --do_dump \\\n",
        "    --max_seq_length 512 \\\n",
        "    --doc_stride 500 \\\n",
        "    --fp16 \\\n",
        "    --filter_threshold -2.0 \\\n",
        "    --append_title \\\n",
        "    --load_dir ./outputs/densephrases-multi \\\n",
        "    --output_dir ./outputs/densephrases-multi_sample"
      ]
    },
    {
      "cell_type": "code",
      "execution_count": null,
      "metadata": {
        "id": "QH8Gef3GX3qN"
      },
      "outputs": [],
      "source": [
        "import os\n",
        "os.environ['DATA_DIR'] = \"/content/DensePhrases\""
      ]
    },
    {
      "cell_type": "code",
      "execution_count": null,
      "metadata": {
        "id": "hw-0oJ_lDfc5"
      },
      "outputs": [],
      "source": []
    }
  ],
  "metadata": {
    "colab": {
      "collapsed_sections": [
        "X09KpIhKxg5u",
        "IhtknNSOxov1",
        "8ex-yoSVxxAB",
        "Y8iXFe0qzjS4",
        "YNqBAAW30bqv",
        "k9UEcB-e1GLX",
        "umj6FUki1xbX",
        "Q99Cc__W2djn",
        "ZMcLSris3iYo",
        "zQDl8wvpj63h",
        "E-IXE0rNkBGN",
        "O0zouMSUjLPM",
        "TMAE9ftF1S6h",
        "lFDwNSB-20gU",
        "ecsInjmdhs75",
        "YUWiAAYL05A3",
        "dwyy9cNQGAvO",
        "JNT7uxNNjCEs",
        "4-MjbAQYlvsG",
        "O4D8Xx5ipGzd",
        "Alr1OJ8DGNwW",
        "pfJHs6rkjXwy",
        "sAbNo9yu1zWf",
        "KM5jpE-4h4kn",
        "vbESJ9kgIlrC",
        "CX6MgopNJ_BD",
        "o_4cG6nIlVIA",
        "ZEZlBhXBC1LX",
        "I9ggAUvU7Pqg",
        "Lkh_7SBR3ZyH",
        "yIuVn33uuC6m",
        "g4TjuF_s8eDl"
      ],
      "provenance": [],
      "authorship_tag": "ABX9TyNa3LH6cwui2k1y2EXCuaF8",
      "include_colab_link": true
    },
    "gpuClass": "standard",
    "kernelspec": {
      "display_name": "Python 3",
      "name": "python3"
    },
    "language_info": {
      "name": "python"
    },
    "widgets": {
      "application/vnd.jupyter.widget-state+json": {
        "ab96f760a0294349ae4e676236add098": {
          "model_module": "@jupyter-widgets/controls",
          "model_name": "HBoxModel",
          "model_module_version": "1.5.0",
          "state": {
            "_dom_classes": [],
            "_model_module": "@jupyter-widgets/controls",
            "_model_module_version": "1.5.0",
            "_model_name": "HBoxModel",
            "_view_count": null,
            "_view_module": "@jupyter-widgets/controls",
            "_view_module_version": "1.5.0",
            "_view_name": "HBoxView",
            "box_style": "",
            "children": [
              "IPY_MODEL_2123b369acb64c488bb0e654002d765b",
              "IPY_MODEL_38a2bdacae2c41f08653549bb7534dac",
              "IPY_MODEL_9d78fcd3fa3545ac83f46666e24a2d00"
            ],
            "layout": "IPY_MODEL_76e5d3bdec7543d4831c9f2a488b3c4e"
          }
        },
        "2123b369acb64c488bb0e654002d765b": {
          "model_module": "@jupyter-widgets/controls",
          "model_name": "HTMLModel",
          "model_module_version": "1.5.0",
          "state": {
            "_dom_classes": [],
            "_model_module": "@jupyter-widgets/controls",
            "_model_module_version": "1.5.0",
            "_model_name": "HTMLModel",
            "_view_count": null,
            "_view_module": "@jupyter-widgets/controls",
            "_view_module_version": "1.5.0",
            "_view_name": "HTMLView",
            "description": "",
            "description_tooltip": null,
            "layout": "IPY_MODEL_6bc01f7b4c6a4c74a5cc120be9e927f7",
            "placeholder": "​",
            "style": "IPY_MODEL_ace290c2b5434e6ea3d722dcb5ea0eb9",
            "value": "Downloading: 100%"
          }
        },
        "38a2bdacae2c41f08653549bb7534dac": {
          "model_module": "@jupyter-widgets/controls",
          "model_name": "FloatProgressModel",
          "model_module_version": "1.5.0",
          "state": {
            "_dom_classes": [],
            "_model_module": "@jupyter-widgets/controls",
            "_model_module_version": "1.5.0",
            "_model_name": "FloatProgressModel",
            "_view_count": null,
            "_view_module": "@jupyter-widgets/controls",
            "_view_module_version": "1.5.0",
            "_view_name": "ProgressView",
            "bar_style": "success",
            "description": "",
            "description_tooltip": null,
            "layout": "IPY_MODEL_2367efdb0c1141b1804370f546ab19c3",
            "max": 252,
            "min": 0,
            "orientation": "horizontal",
            "style": "IPY_MODEL_874dc42c16aa4d97adab8b4721e425d0",
            "value": 252
          }
        },
        "9d78fcd3fa3545ac83f46666e24a2d00": {
          "model_module": "@jupyter-widgets/controls",
          "model_name": "HTMLModel",
          "model_module_version": "1.5.0",
          "state": {
            "_dom_classes": [],
            "_model_module": "@jupyter-widgets/controls",
            "_model_module_version": "1.5.0",
            "_model_name": "HTMLModel",
            "_view_count": null,
            "_view_module": "@jupyter-widgets/controls",
            "_view_module_version": "1.5.0",
            "_view_name": "HTMLView",
            "description": "",
            "description_tooltip": null,
            "layout": "IPY_MODEL_58c32ce9da1c4d859bdad4b68a59cbd9",
            "placeholder": "​",
            "style": "IPY_MODEL_a6294c5e95f649a8ae644f3075650514",
            "value": " 252/252 [00:00&lt;00:00, 12.2kB/s]"
          }
        },
        "76e5d3bdec7543d4831c9f2a488b3c4e": {
          "model_module": "@jupyter-widgets/base",
          "model_name": "LayoutModel",
          "model_module_version": "1.2.0",
          "state": {
            "_model_module": "@jupyter-widgets/base",
            "_model_module_version": "1.2.0",
            "_model_name": "LayoutModel",
            "_view_count": null,
            "_view_module": "@jupyter-widgets/base",
            "_view_module_version": "1.2.0",
            "_view_name": "LayoutView",
            "align_content": null,
            "align_items": null,
            "align_self": null,
            "border": null,
            "bottom": null,
            "display": null,
            "flex": null,
            "flex_flow": null,
            "grid_area": null,
            "grid_auto_columns": null,
            "grid_auto_flow": null,
            "grid_auto_rows": null,
            "grid_column": null,
            "grid_gap": null,
            "grid_row": null,
            "grid_template_areas": null,
            "grid_template_columns": null,
            "grid_template_rows": null,
            "height": null,
            "justify_content": null,
            "justify_items": null,
            "left": null,
            "margin": null,
            "max_height": null,
            "max_width": null,
            "min_height": null,
            "min_width": null,
            "object_fit": null,
            "object_position": null,
            "order": null,
            "overflow": null,
            "overflow_x": null,
            "overflow_y": null,
            "padding": null,
            "right": null,
            "top": null,
            "visibility": null,
            "width": null
          }
        },
        "6bc01f7b4c6a4c74a5cc120be9e927f7": {
          "model_module": "@jupyter-widgets/base",
          "model_name": "LayoutModel",
          "model_module_version": "1.2.0",
          "state": {
            "_model_module": "@jupyter-widgets/base",
            "_model_module_version": "1.2.0",
            "_model_name": "LayoutModel",
            "_view_count": null,
            "_view_module": "@jupyter-widgets/base",
            "_view_module_version": "1.2.0",
            "_view_name": "LayoutView",
            "align_content": null,
            "align_items": null,
            "align_self": null,
            "border": null,
            "bottom": null,
            "display": null,
            "flex": null,
            "flex_flow": null,
            "grid_area": null,
            "grid_auto_columns": null,
            "grid_auto_flow": null,
            "grid_auto_rows": null,
            "grid_column": null,
            "grid_gap": null,
            "grid_row": null,
            "grid_template_areas": null,
            "grid_template_columns": null,
            "grid_template_rows": null,
            "height": null,
            "justify_content": null,
            "justify_items": null,
            "left": null,
            "margin": null,
            "max_height": null,
            "max_width": null,
            "min_height": null,
            "min_width": null,
            "object_fit": null,
            "object_position": null,
            "order": null,
            "overflow": null,
            "overflow_x": null,
            "overflow_y": null,
            "padding": null,
            "right": null,
            "top": null,
            "visibility": null,
            "width": null
          }
        },
        "ace290c2b5434e6ea3d722dcb5ea0eb9": {
          "model_module": "@jupyter-widgets/controls",
          "model_name": "DescriptionStyleModel",
          "model_module_version": "1.5.0",
          "state": {
            "_model_module": "@jupyter-widgets/controls",
            "_model_module_version": "1.5.0",
            "_model_name": "DescriptionStyleModel",
            "_view_count": null,
            "_view_module": "@jupyter-widgets/base",
            "_view_module_version": "1.2.0",
            "_view_name": "StyleView",
            "description_width": ""
          }
        },
        "2367efdb0c1141b1804370f546ab19c3": {
          "model_module": "@jupyter-widgets/base",
          "model_name": "LayoutModel",
          "model_module_version": "1.2.0",
          "state": {
            "_model_module": "@jupyter-widgets/base",
            "_model_module_version": "1.2.0",
            "_model_name": "LayoutModel",
            "_view_count": null,
            "_view_module": "@jupyter-widgets/base",
            "_view_module_version": "1.2.0",
            "_view_name": "LayoutView",
            "align_content": null,
            "align_items": null,
            "align_self": null,
            "border": null,
            "bottom": null,
            "display": null,
            "flex": null,
            "flex_flow": null,
            "grid_area": null,
            "grid_auto_columns": null,
            "grid_auto_flow": null,
            "grid_auto_rows": null,
            "grid_column": null,
            "grid_gap": null,
            "grid_row": null,
            "grid_template_areas": null,
            "grid_template_columns": null,
            "grid_template_rows": null,
            "height": null,
            "justify_content": null,
            "justify_items": null,
            "left": null,
            "margin": null,
            "max_height": null,
            "max_width": null,
            "min_height": null,
            "min_width": null,
            "object_fit": null,
            "object_position": null,
            "order": null,
            "overflow": null,
            "overflow_x": null,
            "overflow_y": null,
            "padding": null,
            "right": null,
            "top": null,
            "visibility": null,
            "width": null
          }
        },
        "874dc42c16aa4d97adab8b4721e425d0": {
          "model_module": "@jupyter-widgets/controls",
          "model_name": "ProgressStyleModel",
          "model_module_version": "1.5.0",
          "state": {
            "_model_module": "@jupyter-widgets/controls",
            "_model_module_version": "1.5.0",
            "_model_name": "ProgressStyleModel",
            "_view_count": null,
            "_view_module": "@jupyter-widgets/base",
            "_view_module_version": "1.2.0",
            "_view_name": "StyleView",
            "bar_color": null,
            "description_width": ""
          }
        },
        "58c32ce9da1c4d859bdad4b68a59cbd9": {
          "model_module": "@jupyter-widgets/base",
          "model_name": "LayoutModel",
          "model_module_version": "1.2.0",
          "state": {
            "_model_module": "@jupyter-widgets/base",
            "_model_module_version": "1.2.0",
            "_model_name": "LayoutModel",
            "_view_count": null,
            "_view_module": "@jupyter-widgets/base",
            "_view_module_version": "1.2.0",
            "_view_name": "LayoutView",
            "align_content": null,
            "align_items": null,
            "align_self": null,
            "border": null,
            "bottom": null,
            "display": null,
            "flex": null,
            "flex_flow": null,
            "grid_area": null,
            "grid_auto_columns": null,
            "grid_auto_flow": null,
            "grid_auto_rows": null,
            "grid_column": null,
            "grid_gap": null,
            "grid_row": null,
            "grid_template_areas": null,
            "grid_template_columns": null,
            "grid_template_rows": null,
            "height": null,
            "justify_content": null,
            "justify_items": null,
            "left": null,
            "margin": null,
            "max_height": null,
            "max_width": null,
            "min_height": null,
            "min_width": null,
            "object_fit": null,
            "object_position": null,
            "order": null,
            "overflow": null,
            "overflow_x": null,
            "overflow_y": null,
            "padding": null,
            "right": null,
            "top": null,
            "visibility": null,
            "width": null
          }
        },
        "a6294c5e95f649a8ae644f3075650514": {
          "model_module": "@jupyter-widgets/controls",
          "model_name": "DescriptionStyleModel",
          "model_module_version": "1.5.0",
          "state": {
            "_model_module": "@jupyter-widgets/controls",
            "_model_module_version": "1.5.0",
            "_model_name": "DescriptionStyleModel",
            "_view_count": null,
            "_view_module": "@jupyter-widgets/base",
            "_view_module_version": "1.2.0",
            "_view_name": "StyleView",
            "description_width": ""
          }
        },
        "5a9cb2cb2a994ab48108c2418e7f2df1": {
          "model_module": "@jupyter-widgets/controls",
          "model_name": "HBoxModel",
          "model_module_version": "1.5.0",
          "state": {
            "_dom_classes": [],
            "_model_module": "@jupyter-widgets/controls",
            "_model_module_version": "1.5.0",
            "_model_name": "HBoxModel",
            "_view_count": null,
            "_view_module": "@jupyter-widgets/controls",
            "_view_module_version": "1.5.0",
            "_view_name": "HBoxView",
            "box_style": "",
            "children": [
              "IPY_MODEL_9313f13524454cd5b2d15e9c455906e9",
              "IPY_MODEL_5246a3932cd3416ea9fd065f006bf597",
              "IPY_MODEL_a0b1cd8f7d3848d69264b8340b145694"
            ],
            "layout": "IPY_MODEL_a846374889c648bca112b4d6979fdc08"
          }
        },
        "9313f13524454cd5b2d15e9c455906e9": {
          "model_module": "@jupyter-widgets/controls",
          "model_name": "HTMLModel",
          "model_module_version": "1.5.0",
          "state": {
            "_dom_classes": [],
            "_model_module": "@jupyter-widgets/controls",
            "_model_module_version": "1.5.0",
            "_model_name": "HTMLModel",
            "_view_count": null,
            "_view_module": "@jupyter-widgets/controls",
            "_view_module_version": "1.5.0",
            "_view_name": "HTMLView",
            "description": "",
            "description_tooltip": null,
            "layout": "IPY_MODEL_c08428739cbe4b3abb84985a67ab6ae5",
            "placeholder": "​",
            "style": "IPY_MODEL_ad0757bcc80342de841a0cc10277ad3d",
            "value": "Downloading: 100%"
          }
        },
        "5246a3932cd3416ea9fd065f006bf597": {
          "model_module": "@jupyter-widgets/controls",
          "model_name": "FloatProgressModel",
          "model_module_version": "1.5.0",
          "state": {
            "_dom_classes": [],
            "_model_module": "@jupyter-widgets/controls",
            "_model_module_version": "1.5.0",
            "_model_name": "FloatProgressModel",
            "_view_count": null,
            "_view_module": "@jupyter-widgets/controls",
            "_view_module_version": "1.5.0",
            "_view_name": "ProgressView",
            "bar_style": "success",
            "description": "",
            "description_tooltip": null,
            "layout": "IPY_MODEL_dc26f9eb3bd34eaaa3f1dd0cee27e7fa",
            "max": 689,
            "min": 0,
            "orientation": "horizontal",
            "style": "IPY_MODEL_2e9dc10d7c8c409d90e7aabf2f05e716",
            "value": 689
          }
        },
        "a0b1cd8f7d3848d69264b8340b145694": {
          "model_module": "@jupyter-widgets/controls",
          "model_name": "HTMLModel",
          "model_module_version": "1.5.0",
          "state": {
            "_dom_classes": [],
            "_model_module": "@jupyter-widgets/controls",
            "_model_module_version": "1.5.0",
            "_model_name": "HTMLModel",
            "_view_count": null,
            "_view_module": "@jupyter-widgets/controls",
            "_view_module_version": "1.5.0",
            "_view_name": "HTMLView",
            "description": "",
            "description_tooltip": null,
            "layout": "IPY_MODEL_34380af1848b484b848a41d033e5ae81",
            "placeholder": "​",
            "style": "IPY_MODEL_b93af92c159342ffb85c76633071c886",
            "value": " 689/689 [00:00&lt;00:00, 28.6kB/s]"
          }
        },
        "a846374889c648bca112b4d6979fdc08": {
          "model_module": "@jupyter-widgets/base",
          "model_name": "LayoutModel",
          "model_module_version": "1.2.0",
          "state": {
            "_model_module": "@jupyter-widgets/base",
            "_model_module_version": "1.2.0",
            "_model_name": "LayoutModel",
            "_view_count": null,
            "_view_module": "@jupyter-widgets/base",
            "_view_module_version": "1.2.0",
            "_view_name": "LayoutView",
            "align_content": null,
            "align_items": null,
            "align_self": null,
            "border": null,
            "bottom": null,
            "display": null,
            "flex": null,
            "flex_flow": null,
            "grid_area": null,
            "grid_auto_columns": null,
            "grid_auto_flow": null,
            "grid_auto_rows": null,
            "grid_column": null,
            "grid_gap": null,
            "grid_row": null,
            "grid_template_areas": null,
            "grid_template_columns": null,
            "grid_template_rows": null,
            "height": null,
            "justify_content": null,
            "justify_items": null,
            "left": null,
            "margin": null,
            "max_height": null,
            "max_width": null,
            "min_height": null,
            "min_width": null,
            "object_fit": null,
            "object_position": null,
            "order": null,
            "overflow": null,
            "overflow_x": null,
            "overflow_y": null,
            "padding": null,
            "right": null,
            "top": null,
            "visibility": null,
            "width": null
          }
        },
        "c08428739cbe4b3abb84985a67ab6ae5": {
          "model_module": "@jupyter-widgets/base",
          "model_name": "LayoutModel",
          "model_module_version": "1.2.0",
          "state": {
            "_model_module": "@jupyter-widgets/base",
            "_model_module_version": "1.2.0",
            "_model_name": "LayoutModel",
            "_view_count": null,
            "_view_module": "@jupyter-widgets/base",
            "_view_module_version": "1.2.0",
            "_view_name": "LayoutView",
            "align_content": null,
            "align_items": null,
            "align_self": null,
            "border": null,
            "bottom": null,
            "display": null,
            "flex": null,
            "flex_flow": null,
            "grid_area": null,
            "grid_auto_columns": null,
            "grid_auto_flow": null,
            "grid_auto_rows": null,
            "grid_column": null,
            "grid_gap": null,
            "grid_row": null,
            "grid_template_areas": null,
            "grid_template_columns": null,
            "grid_template_rows": null,
            "height": null,
            "justify_content": null,
            "justify_items": null,
            "left": null,
            "margin": null,
            "max_height": null,
            "max_width": null,
            "min_height": null,
            "min_width": null,
            "object_fit": null,
            "object_position": null,
            "order": null,
            "overflow": null,
            "overflow_x": null,
            "overflow_y": null,
            "padding": null,
            "right": null,
            "top": null,
            "visibility": null,
            "width": null
          }
        },
        "ad0757bcc80342de841a0cc10277ad3d": {
          "model_module": "@jupyter-widgets/controls",
          "model_name": "DescriptionStyleModel",
          "model_module_version": "1.5.0",
          "state": {
            "_model_module": "@jupyter-widgets/controls",
            "_model_module_version": "1.5.0",
            "_model_name": "DescriptionStyleModel",
            "_view_count": null,
            "_view_module": "@jupyter-widgets/base",
            "_view_module_version": "1.2.0",
            "_view_name": "StyleView",
            "description_width": ""
          }
        },
        "dc26f9eb3bd34eaaa3f1dd0cee27e7fa": {
          "model_module": "@jupyter-widgets/base",
          "model_name": "LayoutModel",
          "model_module_version": "1.2.0",
          "state": {
            "_model_module": "@jupyter-widgets/base",
            "_model_module_version": "1.2.0",
            "_model_name": "LayoutModel",
            "_view_count": null,
            "_view_module": "@jupyter-widgets/base",
            "_view_module_version": "1.2.0",
            "_view_name": "LayoutView",
            "align_content": null,
            "align_items": null,
            "align_self": null,
            "border": null,
            "bottom": null,
            "display": null,
            "flex": null,
            "flex_flow": null,
            "grid_area": null,
            "grid_auto_columns": null,
            "grid_auto_flow": null,
            "grid_auto_rows": null,
            "grid_column": null,
            "grid_gap": null,
            "grid_row": null,
            "grid_template_areas": null,
            "grid_template_columns": null,
            "grid_template_rows": null,
            "height": null,
            "justify_content": null,
            "justify_items": null,
            "left": null,
            "margin": null,
            "max_height": null,
            "max_width": null,
            "min_height": null,
            "min_width": null,
            "object_fit": null,
            "object_position": null,
            "order": null,
            "overflow": null,
            "overflow_x": null,
            "overflow_y": null,
            "padding": null,
            "right": null,
            "top": null,
            "visibility": null,
            "width": null
          }
        },
        "2e9dc10d7c8c409d90e7aabf2f05e716": {
          "model_module": "@jupyter-widgets/controls",
          "model_name": "ProgressStyleModel",
          "model_module_version": "1.5.0",
          "state": {
            "_model_module": "@jupyter-widgets/controls",
            "_model_module_version": "1.5.0",
            "_model_name": "ProgressStyleModel",
            "_view_count": null,
            "_view_module": "@jupyter-widgets/base",
            "_view_module_version": "1.2.0",
            "_view_name": "StyleView",
            "bar_color": null,
            "description_width": ""
          }
        },
        "34380af1848b484b848a41d033e5ae81": {
          "model_module": "@jupyter-widgets/base",
          "model_name": "LayoutModel",
          "model_module_version": "1.2.0",
          "state": {
            "_model_module": "@jupyter-widgets/base",
            "_model_module_version": "1.2.0",
            "_model_name": "LayoutModel",
            "_view_count": null,
            "_view_module": "@jupyter-widgets/base",
            "_view_module_version": "1.2.0",
            "_view_name": "LayoutView",
            "align_content": null,
            "align_items": null,
            "align_self": null,
            "border": null,
            "bottom": null,
            "display": null,
            "flex": null,
            "flex_flow": null,
            "grid_area": null,
            "grid_auto_columns": null,
            "grid_auto_flow": null,
            "grid_auto_rows": null,
            "grid_column": null,
            "grid_gap": null,
            "grid_row": null,
            "grid_template_areas": null,
            "grid_template_columns": null,
            "grid_template_rows": null,
            "height": null,
            "justify_content": null,
            "justify_items": null,
            "left": null,
            "margin": null,
            "max_height": null,
            "max_width": null,
            "min_height": null,
            "min_width": null,
            "object_fit": null,
            "object_position": null,
            "order": null,
            "overflow": null,
            "overflow_x": null,
            "overflow_y": null,
            "padding": null,
            "right": null,
            "top": null,
            "visibility": null,
            "width": null
          }
        },
        "b93af92c159342ffb85c76633071c886": {
          "model_module": "@jupyter-widgets/controls",
          "model_name": "DescriptionStyleModel",
          "model_module_version": "1.5.0",
          "state": {
            "_model_module": "@jupyter-widgets/controls",
            "_model_module_version": "1.5.0",
            "_model_name": "DescriptionStyleModel",
            "_view_count": null,
            "_view_module": "@jupyter-widgets/base",
            "_view_module_version": "1.2.0",
            "_view_name": "StyleView",
            "description_width": ""
          }
        },
        "e29c79fccd504d5fae6f9c86015cb78d": {
          "model_module": "@jupyter-widgets/controls",
          "model_name": "HBoxModel",
          "model_module_version": "1.5.0",
          "state": {
            "_dom_classes": [],
            "_model_module": "@jupyter-widgets/controls",
            "_model_module_version": "1.5.0",
            "_model_name": "HBoxModel",
            "_view_count": null,
            "_view_module": "@jupyter-widgets/controls",
            "_view_module_version": "1.5.0",
            "_view_name": "HBoxView",
            "box_style": "",
            "children": [
              "IPY_MODEL_f01aadfca7f9457d86bb85c11b9a79ee",
              "IPY_MODEL_83fdf8d0f5a64b2a95025a9ee395d43c",
              "IPY_MODEL_43c3d26385434205b256af97778d7442"
            ],
            "layout": "IPY_MODEL_e6aa44eafd49458595bd45692d5fc6b8"
          }
        },
        "f01aadfca7f9457d86bb85c11b9a79ee": {
          "model_module": "@jupyter-widgets/controls",
          "model_name": "HTMLModel",
          "model_module_version": "1.5.0",
          "state": {
            "_dom_classes": [],
            "_model_module": "@jupyter-widgets/controls",
            "_model_module_version": "1.5.0",
            "_model_name": "HTMLModel",
            "_view_count": null,
            "_view_module": "@jupyter-widgets/controls",
            "_view_module_version": "1.5.0",
            "_view_name": "HTMLView",
            "description": "",
            "description_tooltip": null,
            "layout": "IPY_MODEL_21972bb322374b90aad4b9272d581bf5",
            "placeholder": "​",
            "style": "IPY_MODEL_2442ab66e8984eb0afb64d1e4abb52bc",
            "value": "Downloading: 100%"
          }
        },
        "83fdf8d0f5a64b2a95025a9ee395d43c": {
          "model_module": "@jupyter-widgets/controls",
          "model_name": "FloatProgressModel",
          "model_module_version": "1.5.0",
          "state": {
            "_dom_classes": [],
            "_model_module": "@jupyter-widgets/controls",
            "_model_module_version": "1.5.0",
            "_model_name": "FloatProgressModel",
            "_view_count": null,
            "_view_module": "@jupyter-widgets/controls",
            "_view_module_version": "1.5.0",
            "_view_name": "ProgressView",
            "bar_style": "success",
            "description": "",
            "description_tooltip": null,
            "layout": "IPY_MODEL_fa6f82a219374dbfbad437c29d9cb37e",
            "max": 231508,
            "min": 0,
            "orientation": "horizontal",
            "style": "IPY_MODEL_d94b630a1601472a9687027920beba69",
            "value": 231508
          }
        },
        "43c3d26385434205b256af97778d7442": {
          "model_module": "@jupyter-widgets/controls",
          "model_name": "HTMLModel",
          "model_module_version": "1.5.0",
          "state": {
            "_dom_classes": [],
            "_model_module": "@jupyter-widgets/controls",
            "_model_module_version": "1.5.0",
            "_model_name": "HTMLModel",
            "_view_count": null,
            "_view_module": "@jupyter-widgets/controls",
            "_view_module_version": "1.5.0",
            "_view_name": "HTMLView",
            "description": "",
            "description_tooltip": null,
            "layout": "IPY_MODEL_815cfe83a64740329a68d18746671700",
            "placeholder": "​",
            "style": "IPY_MODEL_f76e91b8fb514ea6a7579a30a85887a9",
            "value": " 232k/232k [00:00&lt;00:00, 952kB/s]"
          }
        },
        "e6aa44eafd49458595bd45692d5fc6b8": {
          "model_module": "@jupyter-widgets/base",
          "model_name": "LayoutModel",
          "model_module_version": "1.2.0",
          "state": {
            "_model_module": "@jupyter-widgets/base",
            "_model_module_version": "1.2.0",
            "_model_name": "LayoutModel",
            "_view_count": null,
            "_view_module": "@jupyter-widgets/base",
            "_view_module_version": "1.2.0",
            "_view_name": "LayoutView",
            "align_content": null,
            "align_items": null,
            "align_self": null,
            "border": null,
            "bottom": null,
            "display": null,
            "flex": null,
            "flex_flow": null,
            "grid_area": null,
            "grid_auto_columns": null,
            "grid_auto_flow": null,
            "grid_auto_rows": null,
            "grid_column": null,
            "grid_gap": null,
            "grid_row": null,
            "grid_template_areas": null,
            "grid_template_columns": null,
            "grid_template_rows": null,
            "height": null,
            "justify_content": null,
            "justify_items": null,
            "left": null,
            "margin": null,
            "max_height": null,
            "max_width": null,
            "min_height": null,
            "min_width": null,
            "object_fit": null,
            "object_position": null,
            "order": null,
            "overflow": null,
            "overflow_x": null,
            "overflow_y": null,
            "padding": null,
            "right": null,
            "top": null,
            "visibility": null,
            "width": null
          }
        },
        "21972bb322374b90aad4b9272d581bf5": {
          "model_module": "@jupyter-widgets/base",
          "model_name": "LayoutModel",
          "model_module_version": "1.2.0",
          "state": {
            "_model_module": "@jupyter-widgets/base",
            "_model_module_version": "1.2.0",
            "_model_name": "LayoutModel",
            "_view_count": null,
            "_view_module": "@jupyter-widgets/base",
            "_view_module_version": "1.2.0",
            "_view_name": "LayoutView",
            "align_content": null,
            "align_items": null,
            "align_self": null,
            "border": null,
            "bottom": null,
            "display": null,
            "flex": null,
            "flex_flow": null,
            "grid_area": null,
            "grid_auto_columns": null,
            "grid_auto_flow": null,
            "grid_auto_rows": null,
            "grid_column": null,
            "grid_gap": null,
            "grid_row": null,
            "grid_template_areas": null,
            "grid_template_columns": null,
            "grid_template_rows": null,
            "height": null,
            "justify_content": null,
            "justify_items": null,
            "left": null,
            "margin": null,
            "max_height": null,
            "max_width": null,
            "min_height": null,
            "min_width": null,
            "object_fit": null,
            "object_position": null,
            "order": null,
            "overflow": null,
            "overflow_x": null,
            "overflow_y": null,
            "padding": null,
            "right": null,
            "top": null,
            "visibility": null,
            "width": null
          }
        },
        "2442ab66e8984eb0afb64d1e4abb52bc": {
          "model_module": "@jupyter-widgets/controls",
          "model_name": "DescriptionStyleModel",
          "model_module_version": "1.5.0",
          "state": {
            "_model_module": "@jupyter-widgets/controls",
            "_model_module_version": "1.5.0",
            "_model_name": "DescriptionStyleModel",
            "_view_count": null,
            "_view_module": "@jupyter-widgets/base",
            "_view_module_version": "1.2.0",
            "_view_name": "StyleView",
            "description_width": ""
          }
        },
        "fa6f82a219374dbfbad437c29d9cb37e": {
          "model_module": "@jupyter-widgets/base",
          "model_name": "LayoutModel",
          "model_module_version": "1.2.0",
          "state": {
            "_model_module": "@jupyter-widgets/base",
            "_model_module_version": "1.2.0",
            "_model_name": "LayoutModel",
            "_view_count": null,
            "_view_module": "@jupyter-widgets/base",
            "_view_module_version": "1.2.0",
            "_view_name": "LayoutView",
            "align_content": null,
            "align_items": null,
            "align_self": null,
            "border": null,
            "bottom": null,
            "display": null,
            "flex": null,
            "flex_flow": null,
            "grid_area": null,
            "grid_auto_columns": null,
            "grid_auto_flow": null,
            "grid_auto_rows": null,
            "grid_column": null,
            "grid_gap": null,
            "grid_row": null,
            "grid_template_areas": null,
            "grid_template_columns": null,
            "grid_template_rows": null,
            "height": null,
            "justify_content": null,
            "justify_items": null,
            "left": null,
            "margin": null,
            "max_height": null,
            "max_width": null,
            "min_height": null,
            "min_width": null,
            "object_fit": null,
            "object_position": null,
            "order": null,
            "overflow": null,
            "overflow_x": null,
            "overflow_y": null,
            "padding": null,
            "right": null,
            "top": null,
            "visibility": null,
            "width": null
          }
        },
        "d94b630a1601472a9687027920beba69": {
          "model_module": "@jupyter-widgets/controls",
          "model_name": "ProgressStyleModel",
          "model_module_version": "1.5.0",
          "state": {
            "_model_module": "@jupyter-widgets/controls",
            "_model_module_version": "1.5.0",
            "_model_name": "ProgressStyleModel",
            "_view_count": null,
            "_view_module": "@jupyter-widgets/base",
            "_view_module_version": "1.2.0",
            "_view_name": "StyleView",
            "bar_color": null,
            "description_width": ""
          }
        },
        "815cfe83a64740329a68d18746671700": {
          "model_module": "@jupyter-widgets/base",
          "model_name": "LayoutModel",
          "model_module_version": "1.2.0",
          "state": {
            "_model_module": "@jupyter-widgets/base",
            "_model_module_version": "1.2.0",
            "_model_name": "LayoutModel",
            "_view_count": null,
            "_view_module": "@jupyter-widgets/base",
            "_view_module_version": "1.2.0",
            "_view_name": "LayoutView",
            "align_content": null,
            "align_items": null,
            "align_self": null,
            "border": null,
            "bottom": null,
            "display": null,
            "flex": null,
            "flex_flow": null,
            "grid_area": null,
            "grid_auto_columns": null,
            "grid_auto_flow": null,
            "grid_auto_rows": null,
            "grid_column": null,
            "grid_gap": null,
            "grid_row": null,
            "grid_template_areas": null,
            "grid_template_columns": null,
            "grid_template_rows": null,
            "height": null,
            "justify_content": null,
            "justify_items": null,
            "left": null,
            "margin": null,
            "max_height": null,
            "max_width": null,
            "min_height": null,
            "min_width": null,
            "object_fit": null,
            "object_position": null,
            "order": null,
            "overflow": null,
            "overflow_x": null,
            "overflow_y": null,
            "padding": null,
            "right": null,
            "top": null,
            "visibility": null,
            "width": null
          }
        },
        "f76e91b8fb514ea6a7579a30a85887a9": {
          "model_module": "@jupyter-widgets/controls",
          "model_name": "DescriptionStyleModel",
          "model_module_version": "1.5.0",
          "state": {
            "_model_module": "@jupyter-widgets/controls",
            "_model_module_version": "1.5.0",
            "_model_name": "DescriptionStyleModel",
            "_view_count": null,
            "_view_module": "@jupyter-widgets/base",
            "_view_module_version": "1.2.0",
            "_view_name": "StyleView",
            "description_width": ""
          }
        },
        "abf4f42b235247e58d2c603f99c56888": {
          "model_module": "@jupyter-widgets/controls",
          "model_name": "HBoxModel",
          "model_module_version": "1.5.0",
          "state": {
            "_dom_classes": [],
            "_model_module": "@jupyter-widgets/controls",
            "_model_module_version": "1.5.0",
            "_model_name": "HBoxModel",
            "_view_count": null,
            "_view_module": "@jupyter-widgets/controls",
            "_view_module_version": "1.5.0",
            "_view_name": "HBoxView",
            "box_style": "",
            "children": [
              "IPY_MODEL_fb57d912d1f84516a557d5ce336ba77c",
              "IPY_MODEL_24bc63096f9649c3aa0e99259f401f25",
              "IPY_MODEL_b0f65517c6ac4e9db42b4d6541e9aa98"
            ],
            "layout": "IPY_MODEL_a2583ddfad54409ca9583f0780358fd6"
          }
        },
        "fb57d912d1f84516a557d5ce336ba77c": {
          "model_module": "@jupyter-widgets/controls",
          "model_name": "HTMLModel",
          "model_module_version": "1.5.0",
          "state": {
            "_dom_classes": [],
            "_model_module": "@jupyter-widgets/controls",
            "_model_module_version": "1.5.0",
            "_model_name": "HTMLModel",
            "_view_count": null,
            "_view_module": "@jupyter-widgets/controls",
            "_view_module_version": "1.5.0",
            "_view_name": "HTMLView",
            "description": "",
            "description_tooltip": null,
            "layout": "IPY_MODEL_53d36203f7674ec2be148f390978d197",
            "placeholder": "​",
            "style": "IPY_MODEL_a227c6b800624c24a235f3bdbb648f2c",
            "value": "Downloading: 100%"
          }
        },
        "24bc63096f9649c3aa0e99259f401f25": {
          "model_module": "@jupyter-widgets/controls",
          "model_name": "FloatProgressModel",
          "model_module_version": "1.5.0",
          "state": {
            "_dom_classes": [],
            "_model_module": "@jupyter-widgets/controls",
            "_model_module_version": "1.5.0",
            "_model_name": "FloatProgressModel",
            "_view_count": null,
            "_view_module": "@jupyter-widgets/controls",
            "_view_module_version": "1.5.0",
            "_view_name": "ProgressView",
            "bar_style": "success",
            "description": "",
            "description_tooltip": null,
            "layout": "IPY_MODEL_c86eb93a902c4602affb67704bd96a91",
            "max": 112,
            "min": 0,
            "orientation": "horizontal",
            "style": "IPY_MODEL_11d3eef73e9a4450ae1aa3d29d72fd8b",
            "value": 112
          }
        },
        "b0f65517c6ac4e9db42b4d6541e9aa98": {
          "model_module": "@jupyter-widgets/controls",
          "model_name": "HTMLModel",
          "model_module_version": "1.5.0",
          "state": {
            "_dom_classes": [],
            "_model_module": "@jupyter-widgets/controls",
            "_model_module_version": "1.5.0",
            "_model_name": "HTMLModel",
            "_view_count": null,
            "_view_module": "@jupyter-widgets/controls",
            "_view_module_version": "1.5.0",
            "_view_name": "HTMLView",
            "description": "",
            "description_tooltip": null,
            "layout": "IPY_MODEL_90001eb0108c4179a131b41c3fdc0c33",
            "placeholder": "​",
            "style": "IPY_MODEL_1d1f567b6edc477c992561573b2bebaf",
            "value": " 112/112 [00:00&lt;00:00, 3.47kB/s]"
          }
        },
        "a2583ddfad54409ca9583f0780358fd6": {
          "model_module": "@jupyter-widgets/base",
          "model_name": "LayoutModel",
          "model_module_version": "1.2.0",
          "state": {
            "_model_module": "@jupyter-widgets/base",
            "_model_module_version": "1.2.0",
            "_model_name": "LayoutModel",
            "_view_count": null,
            "_view_module": "@jupyter-widgets/base",
            "_view_module_version": "1.2.0",
            "_view_name": "LayoutView",
            "align_content": null,
            "align_items": null,
            "align_self": null,
            "border": null,
            "bottom": null,
            "display": null,
            "flex": null,
            "flex_flow": null,
            "grid_area": null,
            "grid_auto_columns": null,
            "grid_auto_flow": null,
            "grid_auto_rows": null,
            "grid_column": null,
            "grid_gap": null,
            "grid_row": null,
            "grid_template_areas": null,
            "grid_template_columns": null,
            "grid_template_rows": null,
            "height": null,
            "justify_content": null,
            "justify_items": null,
            "left": null,
            "margin": null,
            "max_height": null,
            "max_width": null,
            "min_height": null,
            "min_width": null,
            "object_fit": null,
            "object_position": null,
            "order": null,
            "overflow": null,
            "overflow_x": null,
            "overflow_y": null,
            "padding": null,
            "right": null,
            "top": null,
            "visibility": null,
            "width": null
          }
        },
        "53d36203f7674ec2be148f390978d197": {
          "model_module": "@jupyter-widgets/base",
          "model_name": "LayoutModel",
          "model_module_version": "1.2.0",
          "state": {
            "_model_module": "@jupyter-widgets/base",
            "_model_module_version": "1.2.0",
            "_model_name": "LayoutModel",
            "_view_count": null,
            "_view_module": "@jupyter-widgets/base",
            "_view_module_version": "1.2.0",
            "_view_name": "LayoutView",
            "align_content": null,
            "align_items": null,
            "align_self": null,
            "border": null,
            "bottom": null,
            "display": null,
            "flex": null,
            "flex_flow": null,
            "grid_area": null,
            "grid_auto_columns": null,
            "grid_auto_flow": null,
            "grid_auto_rows": null,
            "grid_column": null,
            "grid_gap": null,
            "grid_row": null,
            "grid_template_areas": null,
            "grid_template_columns": null,
            "grid_template_rows": null,
            "height": null,
            "justify_content": null,
            "justify_items": null,
            "left": null,
            "margin": null,
            "max_height": null,
            "max_width": null,
            "min_height": null,
            "min_width": null,
            "object_fit": null,
            "object_position": null,
            "order": null,
            "overflow": null,
            "overflow_x": null,
            "overflow_y": null,
            "padding": null,
            "right": null,
            "top": null,
            "visibility": null,
            "width": null
          }
        },
        "a227c6b800624c24a235f3bdbb648f2c": {
          "model_module": "@jupyter-widgets/controls",
          "model_name": "DescriptionStyleModel",
          "model_module_version": "1.5.0",
          "state": {
            "_model_module": "@jupyter-widgets/controls",
            "_model_module_version": "1.5.0",
            "_model_name": "DescriptionStyleModel",
            "_view_count": null,
            "_view_module": "@jupyter-widgets/base",
            "_view_module_version": "1.2.0",
            "_view_name": "StyleView",
            "description_width": ""
          }
        },
        "c86eb93a902c4602affb67704bd96a91": {
          "model_module": "@jupyter-widgets/base",
          "model_name": "LayoutModel",
          "model_module_version": "1.2.0",
          "state": {
            "_model_module": "@jupyter-widgets/base",
            "_model_module_version": "1.2.0",
            "_model_name": "LayoutModel",
            "_view_count": null,
            "_view_module": "@jupyter-widgets/base",
            "_view_module_version": "1.2.0",
            "_view_name": "LayoutView",
            "align_content": null,
            "align_items": null,
            "align_self": null,
            "border": null,
            "bottom": null,
            "display": null,
            "flex": null,
            "flex_flow": null,
            "grid_area": null,
            "grid_auto_columns": null,
            "grid_auto_flow": null,
            "grid_auto_rows": null,
            "grid_column": null,
            "grid_gap": null,
            "grid_row": null,
            "grid_template_areas": null,
            "grid_template_columns": null,
            "grid_template_rows": null,
            "height": null,
            "justify_content": null,
            "justify_items": null,
            "left": null,
            "margin": null,
            "max_height": null,
            "max_width": null,
            "min_height": null,
            "min_width": null,
            "object_fit": null,
            "object_position": null,
            "order": null,
            "overflow": null,
            "overflow_x": null,
            "overflow_y": null,
            "padding": null,
            "right": null,
            "top": null,
            "visibility": null,
            "width": null
          }
        },
        "11d3eef73e9a4450ae1aa3d29d72fd8b": {
          "model_module": "@jupyter-widgets/controls",
          "model_name": "ProgressStyleModel",
          "model_module_version": "1.5.0",
          "state": {
            "_model_module": "@jupyter-widgets/controls",
            "_model_module_version": "1.5.0",
            "_model_name": "ProgressStyleModel",
            "_view_count": null,
            "_view_module": "@jupyter-widgets/base",
            "_view_module_version": "1.2.0",
            "_view_name": "StyleView",
            "bar_color": null,
            "description_width": ""
          }
        },
        "90001eb0108c4179a131b41c3fdc0c33": {
          "model_module": "@jupyter-widgets/base",
          "model_name": "LayoutModel",
          "model_module_version": "1.2.0",
          "state": {
            "_model_module": "@jupyter-widgets/base",
            "_model_module_version": "1.2.0",
            "_model_name": "LayoutModel",
            "_view_count": null,
            "_view_module": "@jupyter-widgets/base",
            "_view_module_version": "1.2.0",
            "_view_name": "LayoutView",
            "align_content": null,
            "align_items": null,
            "align_self": null,
            "border": null,
            "bottom": null,
            "display": null,
            "flex": null,
            "flex_flow": null,
            "grid_area": null,
            "grid_auto_columns": null,
            "grid_auto_flow": null,
            "grid_auto_rows": null,
            "grid_column": null,
            "grid_gap": null,
            "grid_row": null,
            "grid_template_areas": null,
            "grid_template_columns": null,
            "grid_template_rows": null,
            "height": null,
            "justify_content": null,
            "justify_items": null,
            "left": null,
            "margin": null,
            "max_height": null,
            "max_width": null,
            "min_height": null,
            "min_width": null,
            "object_fit": null,
            "object_position": null,
            "order": null,
            "overflow": null,
            "overflow_x": null,
            "overflow_y": null,
            "padding": null,
            "right": null,
            "top": null,
            "visibility": null,
            "width": null
          }
        },
        "1d1f567b6edc477c992561573b2bebaf": {
          "model_module": "@jupyter-widgets/controls",
          "model_name": "DescriptionStyleModel",
          "model_module_version": "1.5.0",
          "state": {
            "_model_module": "@jupyter-widgets/controls",
            "_model_module_version": "1.5.0",
            "_model_name": "DescriptionStyleModel",
            "_view_count": null,
            "_view_module": "@jupyter-widgets/base",
            "_view_module_version": "1.2.0",
            "_view_name": "StyleView",
            "description_width": ""
          }
        },
        "eaf79c92eae14f89b372c425bec2ce05": {
          "model_module": "@jupyter-widgets/controls",
          "model_name": "HBoxModel",
          "model_module_version": "1.5.0",
          "state": {
            "_dom_classes": [],
            "_model_module": "@jupyter-widgets/controls",
            "_model_module_version": "1.5.0",
            "_model_name": "HBoxModel",
            "_view_count": null,
            "_view_module": "@jupyter-widgets/controls",
            "_view_module_version": "1.5.0",
            "_view_name": "HBoxView",
            "box_style": "",
            "children": [
              "IPY_MODEL_e96dfffa265646119495063812223116",
              "IPY_MODEL_32eb944e0cee40279400cccca2ce17e7",
              "IPY_MODEL_51712301f69246c0a71589d1d6b8e79d"
            ],
            "layout": "IPY_MODEL_3a1e82005d9b49a185f7af938ec571c3"
          }
        },
        "e96dfffa265646119495063812223116": {
          "model_module": "@jupyter-widgets/controls",
          "model_name": "HTMLModel",
          "model_module_version": "1.5.0",
          "state": {
            "_dom_classes": [],
            "_model_module": "@jupyter-widgets/controls",
            "_model_module_version": "1.5.0",
            "_model_name": "HTMLModel",
            "_view_count": null,
            "_view_module": "@jupyter-widgets/controls",
            "_view_module_version": "1.5.0",
            "_view_name": "HTMLView",
            "description": "",
            "description_tooltip": null,
            "layout": "IPY_MODEL_239558af258342a184168d77dc27f3c3",
            "placeholder": "​",
            "style": "IPY_MODEL_a085d4a0faa248f595bc735ed1f98eb7",
            "value": "Downloading: 100%"
          }
        },
        "32eb944e0cee40279400cccca2ce17e7": {
          "model_module": "@jupyter-widgets/controls",
          "model_name": "FloatProgressModel",
          "model_module_version": "1.5.0",
          "state": {
            "_dom_classes": [],
            "_model_module": "@jupyter-widgets/controls",
            "_model_module_version": "1.5.0",
            "_model_name": "FloatProgressModel",
            "_view_count": null,
            "_view_module": "@jupyter-widgets/controls",
            "_view_module_version": "1.5.0",
            "_view_name": "ProgressView",
            "bar_style": "success",
            "description": "",
            "description_tooltip": null,
            "layout": "IPY_MODEL_ce024153e9b44affb66c238b16fb0d3e",
            "max": 437998343,
            "min": 0,
            "orientation": "horizontal",
            "style": "IPY_MODEL_fda5f52257ed4ac8b6836b179cd0281c",
            "value": 437998343
          }
        },
        "51712301f69246c0a71589d1d6b8e79d": {
          "model_module": "@jupyter-widgets/controls",
          "model_name": "HTMLModel",
          "model_module_version": "1.5.0",
          "state": {
            "_dom_classes": [],
            "_model_module": "@jupyter-widgets/controls",
            "_model_module_version": "1.5.0",
            "_model_name": "HTMLModel",
            "_view_count": null,
            "_view_module": "@jupyter-widgets/controls",
            "_view_module_version": "1.5.0",
            "_view_name": "HTMLView",
            "description": "",
            "description_tooltip": null,
            "layout": "IPY_MODEL_93975102cab9409c9f3fdec2a1a0368a",
            "placeholder": "​",
            "style": "IPY_MODEL_db4bac1e6ecb47ee8e3e0d05c7edae68",
            "value": " 438M/438M [00:08&lt;00:00, 61.3MB/s]"
          }
        },
        "3a1e82005d9b49a185f7af938ec571c3": {
          "model_module": "@jupyter-widgets/base",
          "model_name": "LayoutModel",
          "model_module_version": "1.2.0",
          "state": {
            "_model_module": "@jupyter-widgets/base",
            "_model_module_version": "1.2.0",
            "_model_name": "LayoutModel",
            "_view_count": null,
            "_view_module": "@jupyter-widgets/base",
            "_view_module_version": "1.2.0",
            "_view_name": "LayoutView",
            "align_content": null,
            "align_items": null,
            "align_self": null,
            "border": null,
            "bottom": null,
            "display": null,
            "flex": null,
            "flex_flow": null,
            "grid_area": null,
            "grid_auto_columns": null,
            "grid_auto_flow": null,
            "grid_auto_rows": null,
            "grid_column": null,
            "grid_gap": null,
            "grid_row": null,
            "grid_template_areas": null,
            "grid_template_columns": null,
            "grid_template_rows": null,
            "height": null,
            "justify_content": null,
            "justify_items": null,
            "left": null,
            "margin": null,
            "max_height": null,
            "max_width": null,
            "min_height": null,
            "min_width": null,
            "object_fit": null,
            "object_position": null,
            "order": null,
            "overflow": null,
            "overflow_x": null,
            "overflow_y": null,
            "padding": null,
            "right": null,
            "top": null,
            "visibility": null,
            "width": null
          }
        },
        "239558af258342a184168d77dc27f3c3": {
          "model_module": "@jupyter-widgets/base",
          "model_name": "LayoutModel",
          "model_module_version": "1.2.0",
          "state": {
            "_model_module": "@jupyter-widgets/base",
            "_model_module_version": "1.2.0",
            "_model_name": "LayoutModel",
            "_view_count": null,
            "_view_module": "@jupyter-widgets/base",
            "_view_module_version": "1.2.0",
            "_view_name": "LayoutView",
            "align_content": null,
            "align_items": null,
            "align_self": null,
            "border": null,
            "bottom": null,
            "display": null,
            "flex": null,
            "flex_flow": null,
            "grid_area": null,
            "grid_auto_columns": null,
            "grid_auto_flow": null,
            "grid_auto_rows": null,
            "grid_column": null,
            "grid_gap": null,
            "grid_row": null,
            "grid_template_areas": null,
            "grid_template_columns": null,
            "grid_template_rows": null,
            "height": null,
            "justify_content": null,
            "justify_items": null,
            "left": null,
            "margin": null,
            "max_height": null,
            "max_width": null,
            "min_height": null,
            "min_width": null,
            "object_fit": null,
            "object_position": null,
            "order": null,
            "overflow": null,
            "overflow_x": null,
            "overflow_y": null,
            "padding": null,
            "right": null,
            "top": null,
            "visibility": null,
            "width": null
          }
        },
        "a085d4a0faa248f595bc735ed1f98eb7": {
          "model_module": "@jupyter-widgets/controls",
          "model_name": "DescriptionStyleModel",
          "model_module_version": "1.5.0",
          "state": {
            "_model_module": "@jupyter-widgets/controls",
            "_model_module_version": "1.5.0",
            "_model_name": "DescriptionStyleModel",
            "_view_count": null,
            "_view_module": "@jupyter-widgets/base",
            "_view_module_version": "1.2.0",
            "_view_name": "StyleView",
            "description_width": ""
          }
        },
        "ce024153e9b44affb66c238b16fb0d3e": {
          "model_module": "@jupyter-widgets/base",
          "model_name": "LayoutModel",
          "model_module_version": "1.2.0",
          "state": {
            "_model_module": "@jupyter-widgets/base",
            "_model_module_version": "1.2.0",
            "_model_name": "LayoutModel",
            "_view_count": null,
            "_view_module": "@jupyter-widgets/base",
            "_view_module_version": "1.2.0",
            "_view_name": "LayoutView",
            "align_content": null,
            "align_items": null,
            "align_self": null,
            "border": null,
            "bottom": null,
            "display": null,
            "flex": null,
            "flex_flow": null,
            "grid_area": null,
            "grid_auto_columns": null,
            "grid_auto_flow": null,
            "grid_auto_rows": null,
            "grid_column": null,
            "grid_gap": null,
            "grid_row": null,
            "grid_template_areas": null,
            "grid_template_columns": null,
            "grid_template_rows": null,
            "height": null,
            "justify_content": null,
            "justify_items": null,
            "left": null,
            "margin": null,
            "max_height": null,
            "max_width": null,
            "min_height": null,
            "min_width": null,
            "object_fit": null,
            "object_position": null,
            "order": null,
            "overflow": null,
            "overflow_x": null,
            "overflow_y": null,
            "padding": null,
            "right": null,
            "top": null,
            "visibility": null,
            "width": null
          }
        },
        "fda5f52257ed4ac8b6836b179cd0281c": {
          "model_module": "@jupyter-widgets/controls",
          "model_name": "ProgressStyleModel",
          "model_module_version": "1.5.0",
          "state": {
            "_model_module": "@jupyter-widgets/controls",
            "_model_module_version": "1.5.0",
            "_model_name": "ProgressStyleModel",
            "_view_count": null,
            "_view_module": "@jupyter-widgets/base",
            "_view_module_version": "1.2.0",
            "_view_name": "StyleView",
            "bar_color": null,
            "description_width": ""
          }
        },
        "93975102cab9409c9f3fdec2a1a0368a": {
          "model_module": "@jupyter-widgets/base",
          "model_name": "LayoutModel",
          "model_module_version": "1.2.0",
          "state": {
            "_model_module": "@jupyter-widgets/base",
            "_model_module_version": "1.2.0",
            "_model_name": "LayoutModel",
            "_view_count": null,
            "_view_module": "@jupyter-widgets/base",
            "_view_module_version": "1.2.0",
            "_view_name": "LayoutView",
            "align_content": null,
            "align_items": null,
            "align_self": null,
            "border": null,
            "bottom": null,
            "display": null,
            "flex": null,
            "flex_flow": null,
            "grid_area": null,
            "grid_auto_columns": null,
            "grid_auto_flow": null,
            "grid_auto_rows": null,
            "grid_column": null,
            "grid_gap": null,
            "grid_row": null,
            "grid_template_areas": null,
            "grid_template_columns": null,
            "grid_template_rows": null,
            "height": null,
            "justify_content": null,
            "justify_items": null,
            "left": null,
            "margin": null,
            "max_height": null,
            "max_width": null,
            "min_height": null,
            "min_width": null,
            "object_fit": null,
            "object_position": null,
            "order": null,
            "overflow": null,
            "overflow_x": null,
            "overflow_y": null,
            "padding": null,
            "right": null,
            "top": null,
            "visibility": null,
            "width": null
          }
        },
        "db4bac1e6ecb47ee8e3e0d05c7edae68": {
          "model_module": "@jupyter-widgets/controls",
          "model_name": "DescriptionStyleModel",
          "model_module_version": "1.5.0",
          "state": {
            "_model_module": "@jupyter-widgets/controls",
            "_model_module_version": "1.5.0",
            "_model_name": "DescriptionStyleModel",
            "_view_count": null,
            "_view_module": "@jupyter-widgets/base",
            "_view_module_version": "1.2.0",
            "_view_name": "StyleView",
            "description_width": ""
          }
        }
      }
    }
  },
  "nbformat": 4,
  "nbformat_minor": 0
}